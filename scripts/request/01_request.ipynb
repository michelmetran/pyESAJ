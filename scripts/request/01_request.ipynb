{
 "cells": [
  {
   "metadata": {},
   "cell_type": "markdown",
   "source": [
    "<br>\n",
    "\n",
    "# Login\n",
    "\n",
    "_Script_ para manejar o e-SAJ.\n",
    "\n",
    "<br>\n",
    "\n",
    "Michel Metran\\\n",
    "Data: 20.03.2025\\\n",
    "Atualizado em: 20.03.2025\n"
   ],
   "id": "8c7fb13631c4d1ef"
  },
  {
   "cell_type": "code",
   "id": "initial_id",
   "metadata": {
    "collapsed": true
   },
   "source": [
    "import requests\n",
    "import json\n",
    "import logging\n",
    "import requests\n",
    "from bs4 import BeautifulSoup\n",
    "\n",
    "import os\n",
    "import time\n",
    "from abc import ABC\n",
    "from pathlib import Path\n",
    "from typing import List, Literal, Optional, Union\n",
    "from urllib.parse import unquote\n",
    "\n",
    "from urllib.parse import urlparse\n",
    "from pathlib import Path\n",
    "import pandas as pd\n",
    "from dotenv import load_dotenv"
   ],
   "outputs": [],
   "execution_count": null
  },
  {
   "metadata": {},
   "cell_type": "markdown",
   "source": [
    "<br>\n",
    "\n",
    "-----\n",
    "\n",
    "## Pasta"
   ],
   "id": "4212f3ecd7659d2c"
  },
  {
   "metadata": {},
   "cell_type": "code",
   "source": [
    "data_path = Path('.').absolute().parents[1] / 'data'\n",
    "data_path"
   ],
   "id": "66198ba1d95c5ddb",
   "outputs": [],
   "execution_count": null
  },
  {
   "metadata": {},
   "cell_type": "markdown",
   "source": [
    "<br>\n",
    "\n",
    "---\n",
    "\n",
    "## Credenciais\n"
   ],
   "id": "85e817f9b2eb0ded"
  },
  {
   "metadata": {},
   "cell_type": "code",
   "source": [
    "load_dotenv()\n",
    "\n",
    "USERNAME = os.getenv('USERNAME_TJSP')\n",
    "PASSWORD = os.getenv('PASSWORD_TJSP')"
   ],
   "id": "8a23b0598b866fb7",
   "outputs": [],
   "execution_count": null
  },
  {
   "metadata": {},
   "cell_type": "markdown",
   "source": [
    "<br>\n",
    "\n",
    "-----\n",
    "\n",
    "## URL"
   ],
   "id": "2bc9ab78eba2298b"
  },
  {
   "metadata": {},
   "cell_type": "code",
   "source": "url = 'https://esaj.tjsp.jus.br/sajcas/login?service=https%3A%2F%2Fesaj.tjsp.jus.br%2Fesaj%2Fj_spring_cas_security_check'",
   "id": "7583d04280a493e0",
   "outputs": [],
   "execution_count": null
  },
  {
   "metadata": {},
   "cell_type": "code",
   "source": [
    "url_parse = urlparse(url=url)\n",
    "print(url_parse)\n",
    "url_parse.query"
   ],
   "id": "60ff1283de4bbb57",
   "outputs": [],
   "execution_count": null
  },
  {
   "metadata": {},
   "cell_type": "code",
   "source": [
    "url = unquote(url)\n",
    "url"
   ],
   "id": "756b0adb1180f3b8",
   "outputs": [],
   "execution_count": null
  },
  {
   "metadata": {},
   "cell_type": "code",
   "source": "url_new = 'https://esaj.tjsp.jus.br/sajcas/login?service=https://esaj.tjsp.jus.br/esaj/j_spring_cas_security_check'",
   "id": "df64df235eaa8228",
   "outputs": [],
   "execution_count": null
  },
  {
   "metadata": {},
   "cell_type": "markdown",
   "source": [
    "<br>\n",
    "\n",
    "-----\n",
    "\n",
    "## Get parameters for POST"
   ],
   "id": "df224347948cd9e9"
  },
  {
   "metadata": {},
   "cell_type": "code",
   "source": [
    "response = requests.get(url=url_new, verify=True)\n",
    "#r.content.decode('utf-8')\n",
    "response"
   ],
   "id": "eae1f1aaf73cf900",
   "outputs": [],
   "execution_count": null
  },
  {
   "metadata": {},
   "cell_type": "code",
   "source": [
    "soup = BeautifulSoup(response.text, 'html.parser')\n",
    "soup"
   ],
   "id": "3ae0025eff2d54e4",
   "outputs": [],
   "execution_count": null
  },
  {
   "metadata": {},
   "cell_type": "code",
   "source": [
    "#soup.find_all(name='input')\n",
    "element_execution = soup.find(name='input', attrs={'name': 'execution'})\n",
    "element_execution['value']"
   ],
   "id": "df3c7968e9982d90",
   "outputs": [],
   "execution_count": null
  },
  {
   "metadata": {},
   "cell_type": "code",
   "source": [
    "element_lt = soup.find(name='input', attrs={'name': 'lt'})\n",
    "element_lt['value']"
   ],
   "id": "168fddca7d5e347b",
   "outputs": [],
   "execution_count": null
  },
  {
   "metadata": {},
   "cell_type": "markdown",
   "source": [
    "<br>\n",
    "\n",
    "-----\n",
    "\n",
    "## POST"
   ],
   "id": "4e4b5df5088a3d38"
  },
  {
   "metadata": {},
   "cell_type": "code",
   "source": [
    "# the payload with your login credentials\n",
    "payload = {\n",
    "    'username': USERNAME,\n",
    "    'password': PASSWORD,\n",
    "    'lt': element_lt['value'],\n",
    "    'execution': element_execution['value'],\n",
    "    '_eventId': 'submit',\n",
    "    'token': '',\n",
    "    'pbEntrar': 'Entrar',\n",
    "    'signature': '',\n",
    "    'certificadoSelecionado': '',\n",
    "    'certificado': ''\n",
    "}\n",
    "#payload"
   ],
   "id": "f88656c6bc748b0b",
   "outputs": [],
   "execution_count": null
  },
  {
   "metadata": {},
   "cell_type": "code",
   "source": [
    "s = requests.session()\n",
    "response = s.post(url=url, data=payload)\n",
    "response"
   ],
   "id": "97b0c587e81959b3",
   "outputs": [],
   "execution_count": null
  },
  {
   "metadata": {},
   "cell_type": "code",
   "source": [
    "#s = requests.session()\n",
    "response = s.get(url='https://esaj.tjsp.jus.br/esaj/cadastro.do')\n",
    "response"
   ],
   "id": "e1a6e894e3d15f07",
   "outputs": [],
   "execution_count": null
  },
  {
   "metadata": {},
   "cell_type": "markdown",
   "source": [
    "<br>\n",
    "\n",
    "----\n",
    "\n",
    "## BS4"
   ],
   "id": "7362fdcee1c60527"
  },
  {
   "metadata": {},
   "cell_type": "code",
   "source": [
    "# parse the HTML content using BeautifulSoup\n",
    "soup = BeautifulSoup(response.text, 'html.parser')\n",
    "\n",
    "# Salvar o objeto soup em um arquivo .html\n",
    "with open(data_path / 'output.html', 'w', encoding='utf-8') as file:\n",
    "    file.write(str(soup))\n",
    "\n",
    "soup"
   ],
   "id": "b3471d12c38e1566",
   "outputs": [],
   "execution_count": null
  },
  {
   "metadata": {},
   "cell_type": "code",
   "source": [
    "# find the page title\n",
    "page_title = soup.title\n",
    "page_title"
   ],
   "id": "2eb3717734f86438",
   "outputs": [],
   "execution_count": null
  },
  {
   "metadata": {},
   "cell_type": "markdown",
   "source": [
    "<br>\n",
    "\n",
    "----\n",
    "\n",
    "## Pesquisa 1º Grau\n",
    "\n",
    "Mas aqui eu preciso ter o código..."
   ],
   "id": "c3d4c770c6f0ad17"
  },
  {
   "metadata": {},
   "cell_type": "code",
   "source": [
    "url = 'https://esaj.tjsp.jus.br/cpopg/show.do?processo.codigo=EX0002XQX0000&processo.foro=564&processo.numero=1500621-87.2025.8.26.0537'\n",
    "\n",
    "# Dá certo sem o parâmetro Foro\n",
    "url = 'https://esaj.tjsp.jus.br/cpopg/show.do?processo.codigo=EX0002XQX0000&processo.numero=1500621-87.2025.8.26.0537'\n",
    "\n",
    "print(url)"
   ],
   "id": "67542e9f255e0d94",
   "outputs": [],
   "execution_count": null
  },
  {
   "metadata": {},
   "cell_type": "code",
   "source": [
    "r = s.get(url=url)\n",
    "r.content"
   ],
   "id": "1e12c3bc11e12005",
   "outputs": [],
   "execution_count": null
  },
  {
   "metadata": {},
   "cell_type": "markdown",
   "source": "E como encontrar o código?",
   "id": "7477390820ecd5a9"
  },
  {
   "metadata": {},
   "cell_type": "code",
   "source": [
    "n_processo = '1500621-87.2025.8.26.0537'\n",
    "n_processo_parts = n_processo.split('.')\n",
    "n_processo_parts_processo_ano = f'{n_processo_parts[0]}.{n_processo_parts[1]}'\n",
    "n_processo_parts[-1]"
   ],
   "id": "6b79a1ab5fa54e59",
   "outputs": [],
   "execution_count": null
  },
  {
   "metadata": {},
   "cell_type": "code",
   "source": [
    "url = f'https://esaj.tjsp.jus.br/cpopg/search.do?conversationId=&cbPesquisa=NUMPROC&numeroDigitoAnoUnificado=1500621-87.2025&foroNumeroUnificado=0537&dadosConsulta.valorConsultaNuUnificado=1500621-87.2025.8.26.0537&dadosConsulta.valorConsultaNuUnificado=UNIFICADO&dadosConsulta.valorConsulta=&dadosConsulta.tipoNuProcesso=UNIFICADO'\n",
    "\n",
    "\n",
    "url = f'https://esaj.tjsp.jus.br/cpopg/search.do?conversationId=&cbPesquisa=NUMPROC&numeroDigitoAnoUnificado={n_processo_parts_processo_ano}&foroNumeroUnificado={n_processo_parts[-1]}&dadosConsulta.valorConsultaNuUnificado={n_processo}&dadosConsulta.valorConsultaNuUnificado=UNIFICADO&dadosConsulta.valorConsulta=&dadosConsulta.tipoNuProcesso=UNIFICADO'\n",
    "url"
   ],
   "id": "bd302395794b873b",
   "outputs": [],
   "execution_count": null
  },
  {
   "metadata": {},
   "cell_type": "code",
   "source": [
    "s = requests.session()\n",
    "response = s.get(url=url, allow_redirects=False)\n",
    "#response.content\n",
    "response.status_code"
   ],
   "id": "dadb8fadc4fa3535",
   "outputs": [],
   "execution_count": null
  },
  {
   "metadata": {},
   "cell_type": "code",
   "source": [
    "# parse the HTML content using BeautifulSoup\n",
    "soup = BeautifulSoup(response.text, 'html.parser')\n",
    "\n",
    "# Salvar o objeto soup em um arquivo .html\n",
    "with open(data_path / 'output.html', 'w', encoding='utf-8') as file:\n",
    "    file.write(str(soup))\n",
    "\n",
    "soup"
   ],
   "id": "24b6017b01bea78e",
   "outputs": [],
   "execution_count": null
  },
  {
   "metadata": {},
   "cell_type": "code",
   "source": "response.cookies",
   "id": "2c25c558ab106d4d",
   "outputs": [],
   "execution_count": null
  },
  {
   "metadata": {},
   "cell_type": "code",
   "source": [
    "response.headers\n",
    "#response.headers['Location']"
   ],
   "id": "ae5e240a5286776f",
   "outputs": [],
   "execution_count": null
  },
  {
   "metadata": {},
   "cell_type": "code",
   "source": "",
   "id": "5025b96c5b0f6890",
   "outputs": [],
   "execution_count": null
  },
  {
   "metadata": {},
   "cell_type": "code",
   "source": "",
   "id": "127e060a0568876",
   "outputs": [],
   "execution_count": null
  },
  {
   "metadata": {},
   "cell_type": "code",
   "source": "",
   "id": "56157796fa8aab92",
   "outputs": [],
   "execution_count": null
  },
  {
   "metadata": {},
   "cell_type": "code",
   "source": "",
   "id": "7b1fb1b35f16e671",
   "outputs": [],
   "execution_count": null
  }
 ],
 "metadata": {
  "kernelspec": {
   "display_name": "Python 3",
   "language": "python",
   "name": "python3"
  },
  "language_info": {
   "codemirror_mode": {
    "name": "ipython",
    "version": 2
   },
   "file_extension": ".py",
   "mimetype": "text/x-python",
   "name": "python",
   "nbconvert_exporter": "python",
   "pygments_lexer": "ipython2",
   "version": "2.7.6"
  }
 },
 "nbformat": 4,
 "nbformat_minor": 5
}
