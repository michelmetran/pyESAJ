{
 "cells": [
  {
   "cell_type": "markdown",
   "metadata": {},
   "source": [
    "# Consulta de Processos\n",
    "\n",
    "_Script_ para fazer a consulta de processos no e-SAJ.\n",
    "\n",
    "Caso queira testar o _notebook_, basta clicar sob o _badge_ abaixo. Irá abrir o arquivo [consulta_processo.ipynb](https://colab.research.google.com/github/michelmetran/pyESAJ/blob/main/docs/scripts/consulta_processo.ipynb) no [_Google Colab_](https://colab.research.google.com/).\n",
    "\n",
    "[![Open In Colab](https://colab.research.google.com/assets/colab-badge.svg)](https://colab.research.google.com/github/michelmetran/pyESAJ/blob/main/docs/scripts/consulta_processo.ipynb)"
   ]
  },
  {
   "cell_type": "code",
   "execution_count": null,
   "metadata": {
    "tags": [
     "hide_code"
    ]
   },
   "outputs": [],
   "source": [
    "# Install Chromium, its driver, and selenium\n",
    "!apt-get update\n",
    "!apt-get install chromium-chromedriver"
   ]
  },
  {
   "cell_type": "code",
   "execution_count": null,
   "metadata": {
    "ExecuteTime": {
     "end_time": "2025-03-25T19:19:07.645015Z",
     "start_time": "2025-03-25T19:19:07.015977Z"
    }
   },
   "outputs": [],
   "source": [
    "from urllib.parse import urlparse\n",
    "\n",
    "import pyesaj.scraper as esaj"
   ]
  },
  {
   "cell_type": "code",
   "execution_count": null,
   "metadata": {
    "ExecuteTime": {
     "end_time": "2025-03-25T19:19:07.653207Z",
     "start_time": "2025-03-25T19:19:07.650052Z"
    },
    "tags": [
     "hide_code"
    ]
   },
   "outputs": [],
   "source": [
    "# import time\n",
    "# import pprint\n",
    "\n",
    "# from typing import List, Literal\n",
    "\n",
    "# from selenium.webdriver.common.action_chains import ActionChains\n",
    "# from selenium.webdriver.common.keys import Keys\n",
    "# from selenium.webdriver.remote.webelement import WebElement\n",
    "\n",
    "\n",
    "# from pyesaj import page, webdriver\n",
    "# from pyesaj.page import intim\n",
    "# from pyesaj.params import intimacoes_output\n",
    "# from pyesaj.pom.page_object import Page, PageElement"
   ]
  },
  {
   "cell_type": "markdown",
   "metadata": {
    "tags": [
     "hide_code"
    ]
   },
   "source": [
    "<br>\n",
    "\n",
    "---\n",
    "\n",
    "**Credenciais**\n",
    "\n",
    "Obtemos as credenciais de um arquivo `.env` com o seguinte conteúdo:\n",
    "\n",
    "```shell\n",
    "USERNAME_TJSP=***.***.***-**\n",
    "PASSWORD_TJSP=****************\n",
    "```\n"
   ]
  },
  {
   "cell_type": "code",
   "execution_count": null,
   "metadata": {
    "ExecuteTime": {
     "end_time": "2025-03-25T19:19:07.863328Z",
     "start_time": "2025-03-25T19:19:07.860100Z"
    },
    "tags": [
     "hide_code"
    ]
   },
   "outputs": [],
   "source": [
    "# load_dotenv()\n",
    "\n",
    "# USERNAME = os.getenv('USERNAME_TJSP')\n",
    "# PASSWORD = os.getenv('PASSWORD_TJSP')"
   ]
  },
  {
   "cell_type": "markdown",
   "metadata": {},
   "source": [
    "<br>\n",
    "\n",
    "---\n",
    "\n",
    "## _Driver_\n",
    "\n",
    "Instanciamos um _driver_/navegador\n"
   ]
  },
  {
   "cell_type": "code",
   "execution_count": null,
   "metadata": {
    "ExecuteTime": {
     "end_time": "2025-03-25T19:19:09.853330Z",
     "start_time": "2025-03-25T19:19:07.952926Z"
    }
   },
   "outputs": [],
   "source": [
    "driver = esaj.webdriver.Chrome(headless=False, modo_colab=True)"
   ]
  },
  {
   "cell_type": "markdown",
   "metadata": {
    "tags": [
     "hide_code"
    ]
   },
   "source": [
    "<br>\n",
    "\n",
    "---\n",
    "\n",
    "**Login**\n"
   ]
  },
  {
   "cell_type": "code",
   "execution_count": null,
   "metadata": {
    "tags": [
     "hide_code"
    ]
   },
   "outputs": [],
   "source": [
    "# log = esaj.page.Login(driver=driver)\n",
    "# log.login(username=USERNAME, password=PASSWORD)\n",
    "# log.user"
   ]
  },
  {
   "cell_type": "markdown",
   "metadata": {},
   "source": [
    "<br>\n",
    "\n",
    "---\n",
    "\n",
    "## Consulta de Processos\n",
    "\n",
    "É possível fazer a consulta processual de diversas maneiras diferentes. O e-SAJ permite fazer a consulta por:\n",
    "\n",
    "1. Número do Processo\n",
    "2. Nome da Parte\n",
    "3. Documento da Parte\n",
    "4. Nome do Advogado\n",
    "5. OAB\n",
    "6. Nº da Carta Precatória na Origem\n",
    "7. Nº do Documento na Delegacia\n",
    "8. CDA\n",
    "\n",
    "<br>\n",
    "\n",
    "Abaixo são definidos as diferentes formas de consulta. o objeto `PesquisaProcessos` foi criado com o pydantic e auxília na validação dos parâmetros inseridos.\n"
   ]
  },
  {
   "cell_type": "code",
   "execution_count": null,
   "metadata": {
    "ExecuteTime": {
     "end_time": "2025-03-25T19:19:14.189831Z",
     "start_time": "2025-03-25T19:19:14.184273Z"
    }
   },
   "outputs": [],
   "source": [
    "# Define\n",
    "proced = esaj.params.processo.input.PesquisaProcessos(\n",
    "    # >>> Instância\n",
    "    instancia='Primeiro Grau',\n",
    "    # instancia='Segundo Grau',\n",
    "    # consultar_por='CDA',\n",
    "    # >>> Número do Processo\n",
    "    consultar_por='Número do Processo',\n",
    "    numero_unificado='0123479-07.2012.8.26.0100',\n",
    "    # >>> Parte\n",
    "    # consultar_por='Nome da parte',\n",
    "    # nome_parte='Michel Metran da Silva',\n",
    "    # nome_parte_pesquisa_nome_completo=True,\n",
    "    # >>> Documento da Parte\n",
    "    # consultar_por='Documento da Parte',\n",
    "    # documento_parte='43.547.234-74',\n",
    "    # >>> Advogado\n",
    "    # consultar_por='Nome do Advogado',\n",
    "    # nome_advogado='Fernanda Dal Picolo',\n",
    "    # nome_advogado_pesquisa_nome_completo=True,\n",
    "    # >>> OAB\n",
    "    # consultar_por='OAB',\n",
    "    # oab='178.780',\n",
    "    # >>> Nº da Carta Precatória na Origem\n",
    "    # consultar_por='Nº da Carta Precatória na Origem',\n",
    "    # n_carta_precatoria_origem='123.456.789',\n",
    "    # >>> Nº do Documento na Delegacia\n",
    "    # consultar_por='Nº do Documento na Delegacia',\n",
    "    # n_documento_delegacia='001.431.473-67',\n",
    "    # >>> CDA\n",
    "    # consultar_por='CDA',\n",
    "    # cda='01.432.326-0001/55',\n",
    ")\n",
    "proced.model_dump()"
   ]
  },
  {
   "cell_type": "markdown",
   "metadata": {},
   "source": [
    "<br>\n",
    "\n",
    "Efetua a pesquisa do processo.\n"
   ]
  },
  {
   "cell_type": "code",
   "execution_count": null,
   "metadata": {
    "ExecuteTime": {
     "end_time": "2025-03-25T19:19:17.641433Z",
     "start_time": "2025-03-25T19:19:16.302373Z"
    }
   },
   "outputs": [],
   "source": [
    "esaj.search.processos.pesquisa(driver=driver, dados=proced)"
   ]
  },
  {
   "cell_type": "code",
   "execution_count": null,
   "metadata": {
    "ExecuteTime": {
     "end_time": "2025-03-25T19:19:19.825166Z",
     "start_time": "2025-03-25T19:19:19.821554Z"
    },
    "tags": [
     "hide_code"
    ]
   },
   "outputs": [],
   "source": [
    "# esaj.page.processo.ConsultaProcesso(driver=driver, grau='Primeiro Grau')\n",
    "# esaj.page.processo.ConsultaProcesso(driver=driver, grau=proced.instancia)"
   ]
  },
  {
   "cell_type": "code",
   "execution_count": null,
   "metadata": {
    "ExecuteTime": {
     "end_time": "2025-03-25T19:19:21.422114Z",
     "start_time": "2025-03-25T19:19:21.418592Z"
    },
    "tags": [
     "hide_code"
    ]
   },
   "outputs": [],
   "source": [
    "# por = esaj.page.processo.ConsultaPor(driver=driver)\n",
    "# print(por.get_options())\n",
    "# por.set_option(option=proced.consultar_por)"
   ]
  },
  {
   "cell_type": "code",
   "execution_count": null,
   "metadata": {
    "ExecuteTime": {
     "end_time": "2025-03-25T19:19:22.148450Z",
     "start_time": "2025-03-25T19:19:22.143848Z"
    },
    "tags": [
     "hide_code"
    ]
   },
   "outputs": [],
   "source": [
    "# # Número\n",
    "# if proced.numero_unificado is not None:\n",
    "#     num = esaj.page.processo.NumeroUnificado(driver=driver)\n",
    "#     num.define_numero(numero=proced.numero_unificado)"
   ]
  },
  {
   "cell_type": "code",
   "execution_count": null,
   "metadata": {
    "ExecuteTime": {
     "end_time": "2025-03-25T19:19:22.641336Z",
     "start_time": "2025-03-25T19:19:22.636811Z"
    },
    "tags": [
     "hide_code"
    ]
   },
   "outputs": [],
   "source": [
    "# # Nome da Parte\n",
    "# if proced.nome_parte is not None:\n",
    "#     nome = esaj.page.processo.NomeParte(driver=driver)\n",
    "#     nome.set_nome_parte(nome=proced.nome_parte)\n",
    "#     if proced.nome_parte_pesquisa_nome_completo is True:\n",
    "#         nome.pesquisa_nome_completo()"
   ]
  },
  {
   "cell_type": "code",
   "execution_count": null,
   "metadata": {
    "ExecuteTime": {
     "end_time": "2025-03-25T19:19:22.994052Z",
     "start_time": "2025-03-25T19:19:22.990439Z"
    },
    "tags": [
     "hide_code"
    ]
   },
   "outputs": [],
   "source": [
    "# # Dcoumento da Parte\n",
    "# if proced.documento_parte is not None:\n",
    "#     doc = esaj.page.processo.DocumentoParte(driver=driver)\n",
    "#     doc.set_documento(documento=proced.documento_parte)"
   ]
  },
  {
   "cell_type": "code",
   "execution_count": null,
   "metadata": {
    "ExecuteTime": {
     "end_time": "2025-03-25T19:19:23.394956Z",
     "start_time": "2025-03-25T19:19:23.392134Z"
    },
    "tags": [
     "hide_code"
    ]
   },
   "outputs": [],
   "source": [
    "# # Nome do Advogado\n",
    "# if proced.nome_advogado is not None:\n",
    "#     nome = esaj.page.processo.NomeAdvogado(driver=driver)\n",
    "#     nome.set_nome_adv(nome=proced.nome_advogado)\n",
    "#     if proced.nome_advogado_pesquisa_nome_completo is True:\n",
    "#         nome.pesquisa_nome_completo()"
   ]
  },
  {
   "cell_type": "code",
   "execution_count": null,
   "metadata": {
    "ExecuteTime": {
     "end_time": "2025-03-25T19:19:23.769275Z",
     "start_time": "2025-03-25T19:19:23.765703Z"
    },
    "tags": [
     "hide_code"
    ]
   },
   "outputs": [],
   "source": [
    "# # OAB\n",
    "# if proced.oab is not None:\n",
    "#     oab = esaj.page.processo.OAB(driver=driver)\n",
    "#     oab.set_documento(documento=proced.oab)\n",
    "#     if proced.nome_advogado_pesquisa_nome_completo is True:\n",
    "#         nome.pesquisa_nome_completo()"
   ]
  },
  {
   "cell_type": "code",
   "execution_count": null,
   "metadata": {
    "ExecuteTime": {
     "end_time": "2025-03-25T19:19:24.141045Z",
     "start_time": "2025-03-25T19:19:24.137217Z"
    },
    "tags": [
     "hide_code"
    ]
   },
   "outputs": [],
   "source": [
    "# # Número da Carta Precatória na Origem\n",
    "# if proced.n_carta_precatoria_origem is not None:\n",
    "#     carta = esaj.page.processo.NumCartaPrecatoria(driver=driver)\n",
    "#     carta.set_documento(documento=proced.n_carta_precatoria_origem)"
   ]
  },
  {
   "cell_type": "code",
   "execution_count": null,
   "metadata": {
    "ExecuteTime": {
     "end_time": "2025-03-25T19:19:24.589691Z",
     "start_time": "2025-03-25T19:19:24.584332Z"
    },
    "tags": [
     "hide_code"
    ]
   },
   "outputs": [],
   "source": [
    "# # Nº do Documento na Delegacia\n",
    "# if proced.n_documento_delegacia is not None:\n",
    "#     deleg = esaj.page.processo.NumDocDelegacia(driver=driver)\n",
    "#     deleg.set_documento(documento=proced.n_documento_delegacia)"
   ]
  },
  {
   "cell_type": "code",
   "execution_count": null,
   "metadata": {
    "ExecuteTime": {
     "end_time": "2025-03-25T19:19:25.003190Z",
     "start_time": "2025-03-25T19:19:25.000194Z"
    },
    "tags": [
     "hide_code"
    ]
   },
   "outputs": [],
   "source": [
    "# # CDA\n",
    "# if proced.cda is not None:\n",
    "#     cda = esaj.page.processo.CDA(driver=driver)\n",
    "#     cda.set_documento(documento=proced.cda)"
   ]
  },
  {
   "cell_type": "code",
   "execution_count": null,
   "metadata": {
    "ExecuteTime": {
     "end_time": "2025-03-25T19:19:25.282890Z",
     "start_time": "2025-03-25T19:19:25.279531Z"
    },
    "tags": [
     "hide_code"
    ]
   },
   "outputs": [],
   "source": [
    "# # Consultar\n",
    "# con = esaj.page.processo.Consultar(driver=driver)\n",
    "# con.consultar(grau=proced.instancia)"
   ]
  },
  {
   "cell_type": "markdown",
   "metadata": {},
   "source": [
    "<br>\n",
    "\n",
    "A função abaixo avalia se a pesquisa retornou algum resultado.\n"
   ]
  },
  {
   "cell_type": "code",
   "execution_count": null,
   "metadata": {
    "ExecuteTime": {
     "end_time": "2025-03-25T19:19:28.672027Z",
     "start_time": "2025-03-25T19:19:25.585432Z"
    }
   },
   "outputs": [],
   "source": [
    "res = esaj.page.processo.CheckResults(driver=driver)\n",
    "res.tem_resultado()"
   ]
  },
  {
   "cell_type": "markdown",
   "metadata": {},
   "source": [
    "<br>\n",
    "\n",
    "---\n",
    "\n",
    "## URLs\n",
    "\n",
    "Avalia, pela _url_, qual o tipo de pesquisa que estamos.\n"
   ]
  },
  {
   "cell_type": "code",
   "execution_count": null,
   "metadata": {
    "ExecuteTime": {
     "end_time": "2025-03-25T19:19:32.085948Z",
     "start_time": "2025-03-25T19:19:32.074121Z"
    }
   },
   "outputs": [],
   "source": [
    "urlparse(url=driver.current_url).path"
   ]
  },
  {
   "cell_type": "code",
   "execution_count": null,
   "metadata": {
    "ExecuteTime": {
     "end_time": "2025-03-25T19:19:34.255199Z",
     "start_time": "2025-03-25T19:19:34.227061Z"
    }
   },
   "outputs": [],
   "source": [
    "if urlparse(url=driver.current_url).path == '/cpopg/open.do':\n",
    "    print('Página de Pesquisa de Processos de 1º Grau')\n",
    "\n",
    "elif urlparse(url=driver.current_url).path == '/cposg/search.do':\n",
    "    print('Página de Pesquisa de Processos de 2º Grau')\n",
    "\n",
    "elif urlparse(url=driver.current_url).path == '/cpopg/show.do':\n",
    "    print('Página de Processo de Primeiro Grau')\n",
    "\n",
    "else:\n",
    "    print(urlparse(url=driver.current_url).path)"
   ]
  },
  {
   "cell_type": "code",
   "execution_count": null,
   "metadata": {
    "ExecuteTime": {
     "end_time": "2025-03-25T19:19:35.226849Z",
     "start_time": "2025-03-25T19:19:35.214849Z"
    }
   },
   "outputs": [],
   "source": [
    "driver.current_url"
   ]
  },
  {
   "cell_type": "markdown",
   "metadata": {},
   "source": [
    "<br>\n",
    "\n",
    "---\n",
    "\n",
    "## Cabeçalho\n",
    "\n",
    "O \"cabeçalho\" do processos é uma coleção de todos os atributos que são apresentados ao usuário quando acessa a \"Consulta de Processos\".\n"
   ]
  },
  {
   "cell_type": "code",
   "execution_count": null,
   "metadata": {
    "ExecuteTime": {
     "end_time": "2025-03-25T19:19:39.256501Z",
     "start_time": "2025-03-25T19:19:37.701737Z"
    }
   },
   "outputs": [],
   "source": [
    "# head = Header(driver=driver)\n",
    "head = esaj.page.processo.registro.Header(driver=driver)\n",
    "header_data = head.get_class()\n",
    "header_data"
   ]
  },
  {
   "cell_type": "code",
   "execution_count": null,
   "metadata": {
    "ExecuteTime": {
     "end_time": "2025-03-25T19:19:37.001896Z",
     "start_time": "2025-03-25T19:19:36.995691Z"
    },
    "tags": [
     "hide_code"
    ]
   },
   "outputs": [],
   "source": [
    "# class Header(PageElement):\n",
    "#     \"\"\"\n",
    "#     Representa o Header, ou seja, as informações do processo.\n",
    "#     Deverá servir para processos de Primeiro e Segundo Graus\n",
    "#     \"\"\"\n",
    "\n",
    "#     # Informação Básica\n",
    "#     classe = (By.XPATH, '//*[@id=\"classeProcesso\"]')\n",
    "#     assunto = (By.XPATH, '//*[@id=\"assuntoProcesso\"]')\n",
    "#     foro = (By.XPATH, '//*[@id=\"foroProcesso\"]')\n",
    "#     vara = (By.XPATH, '//*[@id=\"varaProcesso\"]')\n",
    "#     juiz = (By.XPATH, '//*[@id=\"juizProcesso\"]')\n",
    "\n",
    "#     # Após Clicar em \"Ver Mais\"\n",
    "#     distribuicao = (By.XPATH, '//*[@id=\"dataHoraDistribuicaoProcesso\"]')\n",
    "#     n_controle = (By.XPATH, '//*[@id=\"numeroControleProcesso\"]')\n",
    "#     area = (By.XPATH, '//*[@id=\"areaProcesso\"]')\n",
    "#     valor_acao = (By.XPATH, '//*[@id=\"valorAcaoProcesso\"]')\n",
    "\n",
    "#     # Outros\n",
    "#     outros_numeros = (\n",
    "#         By.XPATH,\n",
    "#         '//*[@class=\"unj-label\" and contains(text(),\"Outros números\")]/following-sibling::div',\n",
    "#     )\n",
    "#     local_fisico = (\n",
    "#         By.XPATH,\n",
    "#         '//*[@class=\"unj-label\" and contains(text(),\"Local Físico\")]/following-sibling::div',\n",
    "#     )\n",
    "#     outros_assuntos = (\n",
    "#         By.XPATH,\n",
    "#         '//*[@class=\"unj-label\" and contains(text(),\"Outros assuntos\")]/following-sibling::div',\n",
    "#     )\n",
    "\n",
    "#     # Ver Mais\n",
    "#     ver_mais = (\n",
    "#         By.XPATH,\n",
    "#         '//div[@class=\"unj-entity-header\"]//*[@href=\"#maisDetalhes\"]',\n",
    "#     )\n",
    "\n",
    "#     def get_class(self) -> None:\n",
    "#         \"\"\"\n",
    "#         Define o \"Nº do Documento da Delegacia\".\n",
    "#         \"\"\"\n",
    "#         self.clica_ver_mais()\n",
    "#         dd_dados = {\n",
    "#             'classe': self.get_text(locator=self.classe),\n",
    "#             'assunto': self.get_text(locator=self.assunto),\n",
    "#             'foro': self.get_text(locator=self.foro),\n",
    "#             'vara': self.get_text(locator=self.vara),\n",
    "#             'juiz': self.get_text(locator=self.juiz),\n",
    "#             # Ver Mais\n",
    "#             'distribuicao': self.get_text(locator=self.distribuicao, wait=1),\n",
    "#             'n_controle': self.get_text(locator=self.n_controle, wait=1),\n",
    "#             'area': self.get_text(locator=self.area, wait=1),\n",
    "#             'valor_acao': self.get_text(locator=self.valor_acao, wait=1),\n",
    "#             # Outros\n",
    "#             'outros_numeros': self.get_text(\n",
    "#                 locator=self.outros_numeros, wait=1\n",
    "#             ),\n",
    "#             'local_fisico': self.get_text(locator=self.local_fisico, wait=1),\n",
    "#             'outros_assuntos': self.get_text(\n",
    "#                 locator=self.outros_assuntos, wait=1\n",
    "#             ),\n",
    "#         }\n",
    "\n",
    "#         # Ver Menos / Recolher\n",
    "#         self.clica_ver_menos()\n",
    "#         return dd_dados\n",
    "\n",
    "#     def clica_ver_mais(self):\n",
    "#         if (\n",
    "#             self.attribute(locator=self.ver_mais, attribute='aria-expanded')\n",
    "#             == 'false'\n",
    "#         ):\n",
    "#             self.click(locator=self.ver_mais)\n",
    "\n",
    "#     def clica_ver_menos(self):\n",
    "#         if (\n",
    "#             self.attribute(locator=self.ver_mais, attribute='aria-expanded')\n",
    "#             != 'false'\n",
    "#         ):\n",
    "#             self.click(locator=self.ver_mais)"
   ]
  },
  {
   "cell_type": "code",
   "execution_count": null,
   "metadata": {
    "ExecuteTime": {
     "end_time": "2025-03-25T19:19:45.392818Z",
     "start_time": "2025-03-25T19:19:45.389940Z"
    },
    "tags": [
     "hide_code"
    ]
   },
   "outputs": [],
   "source": [
    "# head.clica_ver_mais()"
   ]
  },
  {
   "cell_type": "code",
   "execution_count": null,
   "metadata": {
    "ExecuteTime": {
     "end_time": "2025-03-25T19:19:45.597773Z",
     "start_time": "2025-03-25T19:19:45.593631Z"
    },
    "tags": [
     "hide_code"
    ]
   },
   "outputs": [],
   "source": [
    "# head.clica_ver_menos()"
   ]
  },
  {
   "cell_type": "code",
   "execution_count": null,
   "metadata": {
    "ExecuteTime": {
     "end_time": "2025-03-25T19:19:45.768830Z",
     "start_time": "2025-03-25T19:19:45.764829Z"
    },
    "tags": [
     "hide_code"
    ]
   },
   "outputs": [],
   "source": [
    "# # Cabeçalho\n",
    "# #classe = driver.find_element(By.XPATH, '//*[@id=\"classeProcesso\"]').text\n",
    "# assunto = driver.find_element(By.XPATH, ).text\n",
    "# foro = driver.find_element(By.XPATH, '//*[@id=\"foroProcesso\"]').text\n",
    "# vara = driver.find_element(By.XPATH, '//*[@id=\"varaProcesso\"]').text\n",
    "# juiz = driver.find_element(By.XPATH, '//*[@id=\"juizProcesso\"]').text"
   ]
  },
  {
   "cell_type": "markdown",
   "metadata": {},
   "source": [
    "<br>\n",
    "\n",
    "---\n",
    "\n",
    "## Partes\n",
    "\n",
    "Obtem as partes do processos e seus atributos.\n"
   ]
  },
  {
   "cell_type": "code",
   "execution_count": null,
   "metadata": {
    "ExecuteTime": {
     "end_time": "2025-03-25T19:20:03.612450Z",
     "start_time": "2025-03-25T19:20:03.301285Z"
    }
   },
   "outputs": [],
   "source": [
    "parte = esaj.page.processo.registro.Partes(driver=driver)\n",
    "parte.get_partes()"
   ]
  },
  {
   "cell_type": "code",
   "execution_count": null,
   "metadata": {
    "ExecuteTime": {
     "end_time": "2025-03-25T19:19:46.150431Z",
     "start_time": "2025-03-25T19:19:46.145020Z"
    },
    "tags": [
     "hide_code"
    ]
   },
   "outputs": [],
   "source": [
    "# class Partes(PageElement):\n",
    "#     \"\"\"\n",
    "#     Representa a Sessão que contem as Partes do Processo.\n",
    "#     Deverá servir para processos de Primeiro e Segundo Graus\n",
    "#     Por ora só funciona para processos de 1º grau!\n",
    "#     \"\"\"\n",
    "\n",
    "#     # Tabela\n",
    "#     tabela_linhas = (By.XPATH, '//table[@id=\"tableTodasPartes\"]//tbody//tr')\n",
    "\n",
    "#     # Ver Mais\n",
    "#     ver_mais_loc = (\n",
    "#         By.XPATH,\n",
    "#         '//*[@id=\"divLinksTituloBlocoPartes\"]',\n",
    "#     )\n",
    "#     ver_mais = (\n",
    "#         By.XPATH,\n",
    "#         '//*[@id=\"linkpartes\"]//i',\n",
    "#     )\n",
    "\n",
    "#     def get_partes(self) -> None:\n",
    "#         \"\"\"\n",
    "#         Define o \"Nº do Documento da Delegacia\".\n",
    "#         \"\"\"\n",
    "\n",
    "#         self.clica_ver_mais()\n",
    "\n",
    "#         rows = self.find_all(locator=self.tabela_linhas)\n",
    "#         dd = []\n",
    "#         for i in rows:\n",
    "#             list_itens = i.text.strip().split('\\n', maxsplit=1)\n",
    "#             for item in list_itens:\n",
    "#                 # print(item)\n",
    "\n",
    "#                 if item.startswith('Reqte  '):\n",
    "#                     item = item.replace('Reqte  ', '').strip()\n",
    "#                     # print(item)\n",
    "#                     dd.append({'requerente': item})\n",
    "\n",
    "#                 if item.startswith('Reqdo  '):\n",
    "#                     item = item.replace('Reqdo  ', '').strip()\n",
    "#                     # print(item)\n",
    "#                     dd.append({'requerido': item})\n",
    "\n",
    "#                 if item.startswith('Advogada:  ') or item.startswith(\n",
    "#                     'Advogado:  '\n",
    "#                 ):\n",
    "#                     item = (\n",
    "#                         item.replace('Advogada:  ', '')\n",
    "#                         .replace('Advogado:  ', '')\n",
    "#                         .strip()\n",
    "#                     )\n",
    "#                     # print(item)\n",
    "#                     dd.append({'advogado': item})\n",
    "\n",
    "#         self.clica_ver_menos()\n",
    "#         return dd\n",
    "\n",
    "#     def clica_ver_mais(self):\n",
    "#         # aaa = self.find(locator=self.ver_mais)\n",
    "#         # self.script(\"arguments[0].scrollIntoView();\", aaa)\n",
    "#         self.script(\"scrollBy(0,0);\")\n",
    "\n",
    "#         # Vai até o botão do Ver Mais\n",
    "#         self.script(\n",
    "#             \"arguments[0].scrollIntoView();\",\n",
    "#             self.find(locator=self.ver_mais_loc),\n",
    "#         )\n",
    "#         # Sobe um pouco\n",
    "#         self.driver.execute_script(\"window.scrollBy(0, -250);\")\n",
    "\n",
    "#         if (\n",
    "#             self.attribute(locator=self.ver_mais, attribute='class')\n",
    "#             == 'unj-link-collapse__icon glyph glyph-chevron-down'\n",
    "#         ):\n",
    "#             self.click(locator=self.ver_mais)\n",
    "\n",
    "#             # Vai até o botão do Ver Mais\n",
    "#             self.script(\n",
    "#                 \"arguments[0].scrollIntoView();\",\n",
    "#                 self.find(locator=self.ver_mais_loc),\n",
    "#             )\n",
    "#             # Sobe um pouco\n",
    "#             driver.execute_script(\"window.scrollBy(0, -250);\")\n",
    "\n",
    "#     def clica_ver_menos(self):\n",
    "#         # Vai até o botão do Ver Mais\n",
    "#         self.script(\n",
    "#             \"arguments[0].scrollIntoView();\",\n",
    "#             self.find(locator=self.ver_mais_loc),\n",
    "#         )\n",
    "#         # Sobe um pouco\n",
    "#         self.driver.execute_script(\"window.scrollBy(0, -250);\")\n",
    "#         # self.script(\"scrollBy(0,0);\")\n",
    "\n",
    "#         if (\n",
    "#             self.attribute(locator=self.ver_mais, attribute='class')\n",
    "#             != 'unj-link-collapse__icon glyph glyph-chevron-down'\n",
    "#         ):\n",
    "#             self.click(locator=self.ver_mais)\n",
    "\n",
    "#             # Vai até o botão do Ver Mais\n",
    "#             self.script(\n",
    "#                 \"arguments[0].scrollIntoView();\",\n",
    "#                 self.find(locator=self.ver_mais_loc),\n",
    "#             )\n",
    "#             # Sobe um pouco\n",
    "#             self.driver.execute_script(\"window.scrollBy(0, -250);\")"
   ]
  },
  {
   "cell_type": "code",
   "execution_count": null,
   "metadata": {
    "tags": [
     "hide_code"
    ]
   },
   "outputs": [],
   "source": [
    "# parte = Partes(driver=driver)\n",
    "# parte.clica_ver_mais()"
   ]
  },
  {
   "cell_type": "code",
   "execution_count": null,
   "metadata": {
    "ExecuteTime": {
     "end_time": "2025-03-25T19:19:48.217829Z",
     "start_time": "2025-03-25T19:19:48.213479Z"
    },
    "tags": [
     "hide_code"
    ]
   },
   "outputs": [],
   "source": [
    "# xpath = '//*[@id=\"linkpartes\"]//i'\n",
    "# aaa = driver.find_element(by=By.XPATH, value=xpath)\n",
    "# aaa\n",
    "\n",
    "# # driver.execute_script(\"return arguments[0].scrollIntoView();\", xpath)\n",
    "# # driver.execute_script(\"arguments[0].scrollIntoView();\", aaa)"
   ]
  },
  {
   "cell_type": "code",
   "execution_count": null,
   "metadata": {
    "tags": [
     "hide_code"
    ]
   },
   "outputs": [],
   "source": [
    "# parte.clica_ver_menos()"
   ]
  },
  {
   "cell_type": "code",
   "execution_count": null,
   "metadata": {
    "tags": [
     "hide_code"
    ]
   },
   "outputs": [],
   "source": [
    "# table = driver.find_element(\n",
    "#     by=By.XPATH, value='//table[@id=\"tableTodasPartes\"]//tbody'\n",
    "# )\n",
    "\n",
    "# dd = []\n",
    "# for i in table.find_elements(by=By.XPATH, value='.//tr'):\n",
    "#     list_itens = i.text.strip().split('\\n', maxsplit=1)\n",
    "#     for item in list_itens:\n",
    "#         # print(item)\n",
    "\n",
    "#         if item.startswith('Reqte  '):\n",
    "#             item = item.replace('Reqte  ', '').strip()\n",
    "#             # print(item)\n",
    "#             dd.append({'requerente': item})\n",
    "\n",
    "#         if item.startswith('Reqdo  '):\n",
    "#             item = item.replace('Reqdo  ', '').strip()\n",
    "#             # print(item)\n",
    "#             dd.append({'requerido': item})\n",
    "\n",
    "#         if item.startswith('Advogada:  ') or item.startswith('Advogado:  '):\n",
    "#             item = (\n",
    "#                 item.replace('Advogada:  ', '')\n",
    "#                 .replace('Advogado:  ', '')\n",
    "#                 .strip()\n",
    "#             )\n",
    "#             # print(item)\n",
    "#             dd.append({'advogado': item})\n",
    "\n",
    "# dd"
   ]
  },
  {
   "cell_type": "markdown",
   "metadata": {},
   "source": [
    "<br>\n",
    "\n",
    "---\n",
    "\n",
    "## Movimentação\n",
    "\n",
    "Obtem a lista de movimentações/andamentos do processo.\n"
   ]
  },
  {
   "cell_type": "code",
   "execution_count": null,
   "metadata": {},
   "outputs": [],
   "source": [
    "mov = esaj.page.processo.registro.Movimentacao(driver=driver)\n",
    "mov.get_table()"
   ]
  },
  {
   "cell_type": "code",
   "execution_count": null,
   "metadata": {
    "tags": [
     "hide_code"
    ]
   },
   "outputs": [],
   "source": [
    "# class Movimentacao(PageElement):\n",
    "#     \"\"\"\n",
    "#     Representa a Sessão que contem as Partes do Processo.\n",
    "#     Deverá servir para processos de Primeiro e Segundo Graus\n",
    "#     Por ora só funciona para processos de 1º grau!\n",
    "#     \"\"\"\n",
    "\n",
    "#     # Tabela\n",
    "#     tabela_linhas = (By.XPATH, '//tbody[@id=\"tabelaTodasMovimentacoes\"]//tr')\n",
    "#     row_data_mov = (By.XPATH, './/td[@class=\"dataMovimentacao\"]')\n",
    "#     row_desc_mov = (By.XPATH, './/td[@class=\"descricaoMovimentacao\"]')\n",
    "\n",
    "#     # Ver Mais\n",
    "#     ver_mais_loc = (\n",
    "#         By.XPATH,\n",
    "#         '//*[@id=\"divLinksTituloBlocoMovimentacoes\"]',\n",
    "#     )\n",
    "\n",
    "#     ver_mais = (\n",
    "#         By.XPATH,\n",
    "#         '//*[@id=\"linkmovimentacoes\"]//i',\n",
    "#     )\n",
    "\n",
    "#     def get_table(self) -> None:\n",
    "#         \"\"\"\n",
    "#         Define o \"Nº do Documento da Delegacia\".\n",
    "#         \"\"\"\n",
    "\n",
    "#         self.clica_ver_mais()\n",
    "\n",
    "#         rows = self.find_all(locator=self.tabela_linhas)\n",
    "#         dd = []\n",
    "#         for row in rows:\n",
    "#             # print(row.text)\n",
    "#             data_xpath = self.row_data_mov + (row,)\n",
    "#             data = self.get_text(locator=data_xpath, wait=3)\n",
    "#             # print(data)\n",
    "\n",
    "#             desc_xpath = self.row_desc_mov + (row,)\n",
    "#             desc = self.get_text(locator=desc_xpath, wait=3)\n",
    "#             # print(desc)\n",
    "\n",
    "#             dd.append({'data_movimentacao': data, 'descricao': desc})\n",
    "\n",
    "#         self.clica_ver_menos()\n",
    "#         return dd\n",
    "\n",
    "#     def clica_ver_mais(self):\n",
    "#         # Vai até o botão do Ver Mais\n",
    "#         self.script(\n",
    "#             \"arguments[0].scrollIntoView();\",\n",
    "#             self.find(locator=self.ver_mais_loc),\n",
    "#         )\n",
    "#         # Sobe um pouco\n",
    "#         self.driver.execute_script(\"window.scrollBy(0, -250);\")\n",
    "\n",
    "#         if (\n",
    "#             self.attribute(locator=self.ver_mais, attribute='class')\n",
    "#             == 'unj-link-collapse__icon glyph glyph-chevron-down'\n",
    "#         ):\n",
    "\n",
    "#             # Clica no Botão Ver Mais\n",
    "#             self.click(locator=self.ver_mais)\n",
    "\n",
    "#             # Vai até o botão do Ver Mais\n",
    "#             self.script(\n",
    "#                 \"arguments[0].scrollIntoView();\",\n",
    "#                 self.find(locator=self.ver_mais_loc),\n",
    "#             )\n",
    "#             # Sobe um pouco\n",
    "#             self.driver.execute_script(\"window.scrollBy(0, -250);\")\n",
    "\n",
    "#     def clica_ver_menos(self):\n",
    "#         # Vai até o botão do Ver Mais\n",
    "#         self.script(\n",
    "#             \"arguments[0].scrollIntoView();\",\n",
    "#             self.find(locator=self.ver_mais_loc),\n",
    "#         )\n",
    "#         # Sobe um pouco\n",
    "#         self.driver.execute_script(\"window.scrollBy(0, -250);\")\n",
    "\n",
    "#         if (\n",
    "#             self.attribute(locator=self.ver_mais, attribute='class')\n",
    "#             != 'unj-link-collapse__icon glyph glyph-chevron-down'\n",
    "#         ):\n",
    "#             self.click(locator=self.ver_mais)\n",
    "\n",
    "#             # Vai até o botão do Ver Mais\n",
    "#             self.script(\n",
    "#                 \"arguments[0].scrollIntoView();\",\n",
    "#                 self.find(locator=self.ver_mais_loc),\n",
    "#             )\n",
    "#             # Sobe um pouco\n",
    "#             self.driver.execute_script(\"window.scrollBy(0, -250);\")"
   ]
  },
  {
   "cell_type": "code",
   "execution_count": null,
   "metadata": {
    "tags": [
     "hide_code"
    ]
   },
   "outputs": [],
   "source": [
    "# mov = Movimentacao(driver=driver)\n",
    "# mov.clica_ver_mais()"
   ]
  },
  {
   "cell_type": "code",
   "execution_count": null,
   "metadata": {
    "tags": [
     "hide_code"
    ]
   },
   "outputs": [],
   "source": [
    "# rows = mov.find_all(locator=mov.tabela_linhas)\n",
    "# for row in rows:\n",
    "#     print(row)\n",
    "#     # aaa = (By.XPATH, './/td[@dataMovimentacao]', row)\n",
    "#     #aaa = mov.row_data_mov + (row,)\n",
    "#     # print(aaa)\n",
    "#     aaabbb = mov.find(locator=aaa, wait=10).text\n",
    "#     print(aaabbb)\n",
    "#     # print(row.find_element(by=By.XPATH, value='.//td[@class=\"dataMovimentacao\"]').text)"
   ]
  },
  {
   "cell_type": "code",
   "execution_count": null,
   "metadata": {
    "tags": [
     "hide_code"
    ]
   },
   "outputs": [],
   "source": [
    "# mov.clica_ver_menos()"
   ]
  },
  {
   "cell_type": "code",
   "execution_count": null,
   "metadata": {
    "tags": [
     "hide_code"
    ]
   },
   "outputs": [],
   "source": [
    "# aaaa = driver.find_element(*mov.ver_mais_loc)"
   ]
  },
  {
   "cell_type": "code",
   "execution_count": null,
   "metadata": {
    "tags": [
     "hide_code"
    ]
   },
   "outputs": [],
   "source": [
    "# driver.execute_script(\"arguments[0].scrollIntoView();\")"
   ]
  },
  {
   "cell_type": "markdown",
   "metadata": {},
   "source": [
    "<br>\n",
    "\n",
    "Por fim, fecho o _driver_/navegador.\n"
   ]
  },
  {
   "cell_type": "code",
   "execution_count": null,
   "metadata": {},
   "outputs": [],
   "source": [
    "# driver.close()\n",
    "driver.quit()"
   ]
  }
 ],
 "metadata": {
  "kernelspec": {
   "display_name": "pyesaj-9t7CDmVm-py3.12",
   "language": "python",
   "name": "python3"
  },
  "language_info": {
   "codemirror_mode": {
    "name": "ipython",
    "version": 3
   },
   "file_extension": ".py",
   "mimetype": "text/x-python",
   "name": "python",
   "nbconvert_exporter": "python",
   "pygments_lexer": "ipython3",
   "version": "3.12.3"
  }
 },
 "nbformat": 4,
 "nbformat_minor": 2
}
