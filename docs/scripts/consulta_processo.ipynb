{
 "cells": [
  {
   "cell_type": "markdown",
   "metadata": {},
   "source": [
    "# Consulta de Processos\n",
    "\n",
    "_Script_ para fazer a consulta de processos no e-SAJ.\n"
   ]
  },
  {
   "cell_type": "code",
   "execution_count": null,
   "metadata": {
    "ExecuteTime": {
     "end_time": "2025-03-25T19:19:07.645015Z",
     "start_time": "2025-03-25T19:19:07.015977Z"
    }
   },
   "outputs": [],
   "source": [
    "import pprint\n",
    "from urllib.parse import urlparse\n",
    "\n",
    "\n",
    "\n",
    "import pyesaj.scraper as esaj"
   ]
  },
  {
   "cell_type": "code",
   "execution_count": null,
   "metadata": {
    "ExecuteTime": {
     "end_time": "2025-03-25T19:19:07.653207Z",
     "start_time": "2025-03-25T19:19:07.650052Z"
    },
    "tags": [
     "hide_code"
    ]
   },
   "outputs": [],
   "source": [
    "# import time\n",
    "\n",
    "# from typing import List, Literal\n",
    "\n",
    "# from selenium.webdriver.common.action_chains import ActionChains\n",
    "# from selenium.webdriver.common.keys import Keys\n",
    "# from selenium.webdriver.remote.webelement import WebElement\n",
    "\n",
    "\n",
    "# from pyesaj import page, webdriver\n",
    "# from pyesaj.page import intim\n",
    "# from pyesaj.params import intimacoes_output\n",
    "# from pyesaj.pom.page_object import Page, PageElement"
   ]
  },
  {
   "cell_type": "markdown",
   "metadata": {
    "tags": [
     "hide_code"
    ]
   },
   "source": [
    "<br>\n",
    "\n",
    "---\n",
    "\n",
    "**Credenciais**\n",
    "\n",
    "Obtemos as credenciais de um arquivo `.env` com o seguinte conteúdo:\n",
    "\n",
    "```shell\n",
    "USERNAME_TJSP=***.***.***-**\n",
    "PASSWORD_TJSP=****************\n",
    "```\n"
   ]
  },
  {
   "cell_type": "code",
   "execution_count": null,
   "metadata": {
    "ExecuteTime": {
     "end_time": "2025-03-25T19:19:07.863328Z",
     "start_time": "2025-03-25T19:19:07.860100Z"
    },
    "tags": [
     "hide_code"
    ]
   },
   "outputs": [],
   "source": [
    "# load_dotenv()\n",
    "\n",
    "# USERNAME = os.getenv('USERNAME_TJSP')\n",
    "# PASSWORD = os.getenv('PASSWORD_TJSP')"
   ]
  },
  {
   "cell_type": "markdown",
   "metadata": {},
   "source": [
    "<br>\n",
    "\n",
    "---\n",
    "\n",
    "## _Driver_\n",
    "\n",
    "Instanciamos um _driver_/navegador\n"
   ]
  },
  {
   "cell_type": "code",
   "execution_count": 73,
   "metadata": {
    "ExecuteTime": {
     "end_time": "2025-03-25T19:19:09.853330Z",
     "start_time": "2025-03-25T19:19:07.952926Z"
    }
   },
   "outputs": [],
   "source": [
    "driver = esaj.webdriver.Chrome(headless=False)"
   ]
  },
  {
   "cell_type": "markdown",
   "metadata": {
    "tags": [
     "hide_code"
    ]
   },
   "source": [
    "<br>\n",
    "\n",
    "---\n",
    "\n",
    "**Login**\n"
   ]
  },
  {
   "cell_type": "code",
   "execution_count": null,
   "metadata": {
    "tags": [
     "hide_code"
    ]
   },
   "outputs": [],
   "source": [
    "# log = esaj.page.Login(driver=driver)\n",
    "# log.login(username=USERNAME, password=PASSWORD)\n",
    "# log.user"
   ]
  },
  {
   "cell_type": "markdown",
   "metadata": {},
   "source": [
    "<br>\n",
    "\n",
    "---\n",
    "\n",
    "## Consulta de Processos\n",
    "\n",
    "É possível fazer a consulta processual de diversas maneiras diferentes. O e-SAJ permite fazer a consulta por:\n",
    "\n",
    "1. Número do Processo\n",
    "2. Nome da Parte\n",
    "3. Documento da Parte\n",
    "4. Nome do Advogado\n",
    "5. OAB\n",
    "6. Nº da Carta Precatória na Origem\n",
    "7. Nº do Documento na Delegacia\n",
    "8. CDA\n",
    "\n",
    "<br>\n",
    "\n",
    "Abaixo são definidos as diferentes formas de consulta. o objeto `PesquisaProcessos` foi criado com o pydantic e auxília na validação dos parâmetros inseridos.\n"
   ]
  },
  {
   "cell_type": "code",
   "execution_count": 74,
   "metadata": {
    "ExecuteTime": {
     "end_time": "2025-03-25T19:19:14.189831Z",
     "start_time": "2025-03-25T19:19:14.184273Z"
    }
   },
   "outputs": [
    {
     "data": {
      "text/plain": [
       "{'instancia': 'Primeiro Grau',\n",
       " 'consultar_por': 'Número do Processo',\n",
       " 'numero_unificado': '0123479-07.2012.8.26.0100',\n",
       " 'nome_parte': None,\n",
       " 'nome_parte_pesquisa_nome_completo': None,\n",
       " 'documento_parte': None,\n",
       " 'nome_advogado': None,\n",
       " 'nome_advogado_pesquisa_nome_completo': None,\n",
       " 'oab': None,\n",
       " 'n_carta_precatoria_origem': None,\n",
       " 'n_documento_delegacia': None,\n",
       " 'cda': None}"
      ]
     },
     "execution_count": 74,
     "metadata": {},
     "output_type": "execute_result"
    }
   ],
   "source": [
    "# Define\n",
    "proced = esaj.params.processo.input.PesquisaProcessos(\n",
    "    # >>> Instância\n",
    "    instancia='Primeiro Grau',\n",
    "    # instancia='Segundo Grau',\n",
    "    # consultar_por='CDA',\n",
    "    # >>> Número do Processo\n",
    "    consultar_por='Número do Processo',\n",
    "    numero_unificado='0123479-07.2012.8.26.0100',\n",
    "    # >>> Parte\n",
    "    # consultar_por='Nome da parte',\n",
    "    # nome_parte='Michel Metran da Silva',\n",
    "    # nome_parte_pesquisa_nome_completo=True,\n",
    "    # >>> Documento da Parte\n",
    "    # consultar_por='Documento da Parte',\n",
    "    # documento_parte='43.547.234-74',\n",
    "    # >>> Advogado\n",
    "    # consultar_por='Nome do Advogado',\n",
    "    # nome_advogado='Fernanda Dal Picolo',\n",
    "    # nome_advogado_pesquisa_nome_completo=True,\n",
    "    # >>> OAB\n",
    "    # consultar_por='OAB',\n",
    "    # oab='178.780',\n",
    "    # >>> Nº da Carta Precatória na Origem\n",
    "    # consultar_por='Nº da Carta Precatória na Origem',\n",
    "    # n_carta_precatoria_origem='123.456.789',\n",
    "    # >>> Nº do Documento na Delegacia\n",
    "    # consultar_por='Nº do Documento na Delegacia',\n",
    "    # n_documento_delegacia='001.431.473-67',\n",
    "    # >>> CDA\n",
    "    # consultar_por='CDA',\n",
    "    # cda='01.432.326-0001/55',\n",
    ")\n",
    "proced.model_dump()"
   ]
  },
  {
   "cell_type": "markdown",
   "metadata": {},
   "source": [
    "<br>\n",
    "\n",
    "Efetua a pesquisa do processo.\n"
   ]
  },
  {
   "cell_type": "code",
   "execution_count": 75,
   "metadata": {
    "ExecuteTime": {
     "end_time": "2025-03-25T19:19:17.641433Z",
     "start_time": "2025-03-25T19:19:16.302373Z"
    }
   },
   "outputs": [],
   "source": [
    "esaj.search.processos.pesquisa(driver=driver, dados=proced)"
   ]
  },
  {
   "cell_type": "code",
   "execution_count": null,
   "metadata": {
    "ExecuteTime": {
     "end_time": "2025-03-25T19:19:19.825166Z",
     "start_time": "2025-03-25T19:19:19.821554Z"
    },
    "tags": [
     "hide_code"
    ]
   },
   "outputs": [],
   "source": [
    "# esaj.page.processo.ConsultaProcesso(driver=driver, grau='Primeiro Grau')\n",
    "# esaj.page.processo.ConsultaProcesso(driver=driver, grau=proced.instancia)"
   ]
  },
  {
   "cell_type": "code",
   "execution_count": null,
   "metadata": {
    "ExecuteTime": {
     "end_time": "2025-03-25T19:19:21.422114Z",
     "start_time": "2025-03-25T19:19:21.418592Z"
    },
    "tags": [
     "hide_code"
    ]
   },
   "outputs": [],
   "source": [
    "# por = esaj.page.processo.ConsultaPor(driver=driver)\n",
    "# print(por.get_options())\n",
    "# por.set_option(option=proced.consultar_por)"
   ]
  },
  {
   "cell_type": "code",
   "execution_count": null,
   "metadata": {
    "ExecuteTime": {
     "end_time": "2025-03-25T19:19:22.148450Z",
     "start_time": "2025-03-25T19:19:22.143848Z"
    },
    "tags": [
     "hide_code"
    ]
   },
   "outputs": [],
   "source": [
    "# # Número\n",
    "# if proced.numero_unificado is not None:\n",
    "#     num = esaj.page.processo.NumeroUnificado(driver=driver)\n",
    "#     num.define_numero(numero=proced.numero_unificado)"
   ]
  },
  {
   "cell_type": "code",
   "execution_count": null,
   "metadata": {
    "ExecuteTime": {
     "end_time": "2025-03-25T19:19:22.641336Z",
     "start_time": "2025-03-25T19:19:22.636811Z"
    },
    "tags": [
     "hide_code"
    ]
   },
   "outputs": [],
   "source": [
    "# # Nome da Parte\n",
    "# if proced.nome_parte is not None:\n",
    "#     nome = esaj.page.processo.NomeParte(driver=driver)\n",
    "#     nome.set_nome_parte(nome=proced.nome_parte)\n",
    "#     if proced.nome_parte_pesquisa_nome_completo is True:\n",
    "#         nome.pesquisa_nome_completo()"
   ]
  },
  {
   "cell_type": "code",
   "execution_count": null,
   "metadata": {
    "ExecuteTime": {
     "end_time": "2025-03-25T19:19:22.994052Z",
     "start_time": "2025-03-25T19:19:22.990439Z"
    },
    "tags": [
     "hide_code"
    ]
   },
   "outputs": [],
   "source": [
    "# # Dcoumento da Parte\n",
    "# if proced.documento_parte is not None:\n",
    "#     doc = esaj.page.processo.DocumentoParte(driver=driver)\n",
    "#     doc.set_documento(documento=proced.documento_parte)"
   ]
  },
  {
   "cell_type": "code",
   "execution_count": null,
   "metadata": {
    "ExecuteTime": {
     "end_time": "2025-03-25T19:19:23.394956Z",
     "start_time": "2025-03-25T19:19:23.392134Z"
    },
    "tags": [
     "hide_code"
    ]
   },
   "outputs": [],
   "source": [
    "# # Nome do Advogado\n",
    "# if proced.nome_advogado is not None:\n",
    "#     nome = esaj.page.processo.NomeAdvogado(driver=driver)\n",
    "#     nome.set_nome_adv(nome=proced.nome_advogado)\n",
    "#     if proced.nome_advogado_pesquisa_nome_completo is True:\n",
    "#         nome.pesquisa_nome_completo()"
   ]
  },
  {
   "cell_type": "code",
   "execution_count": null,
   "metadata": {
    "ExecuteTime": {
     "end_time": "2025-03-25T19:19:23.769275Z",
     "start_time": "2025-03-25T19:19:23.765703Z"
    },
    "tags": [
     "hide_code"
    ]
   },
   "outputs": [],
   "source": [
    "# # OAB\n",
    "# if proced.oab is not None:\n",
    "#     oab = esaj.page.processo.OAB(driver=driver)\n",
    "#     oab.set_documento(documento=proced.oab)\n",
    "#     if proced.nome_advogado_pesquisa_nome_completo is True:\n",
    "#         nome.pesquisa_nome_completo()"
   ]
  },
  {
   "cell_type": "code",
   "execution_count": null,
   "metadata": {
    "ExecuteTime": {
     "end_time": "2025-03-25T19:19:24.141045Z",
     "start_time": "2025-03-25T19:19:24.137217Z"
    },
    "tags": [
     "hide_code"
    ]
   },
   "outputs": [],
   "source": [
    "# # Número da Carta Precatória na Origem\n",
    "# if proced.n_carta_precatoria_origem is not None:\n",
    "#     carta = esaj.page.processo.NumCartaPrecatoria(driver=driver)\n",
    "#     carta.set_documento(documento=proced.n_carta_precatoria_origem)"
   ]
  },
  {
   "cell_type": "code",
   "execution_count": null,
   "metadata": {
    "ExecuteTime": {
     "end_time": "2025-03-25T19:19:24.589691Z",
     "start_time": "2025-03-25T19:19:24.584332Z"
    },
    "tags": [
     "hide_code"
    ]
   },
   "outputs": [],
   "source": [
    "# # Nº do Documento na Delegacia\n",
    "# if proced.n_documento_delegacia is not None:\n",
    "#     deleg = esaj.page.processo.NumDocDelegacia(driver=driver)\n",
    "#     deleg.set_documento(documento=proced.n_documento_delegacia)"
   ]
  },
  {
   "cell_type": "code",
   "execution_count": null,
   "metadata": {
    "ExecuteTime": {
     "end_time": "2025-03-25T19:19:25.003190Z",
     "start_time": "2025-03-25T19:19:25.000194Z"
    },
    "tags": [
     "hide_code"
    ]
   },
   "outputs": [],
   "source": [
    "# # CDA\n",
    "# if proced.cda is not None:\n",
    "#     cda = esaj.page.processo.CDA(driver=driver)\n",
    "#     cda.set_documento(documento=proced.cda)"
   ]
  },
  {
   "cell_type": "code",
   "execution_count": null,
   "metadata": {
    "ExecuteTime": {
     "end_time": "2025-03-25T19:19:25.282890Z",
     "start_time": "2025-03-25T19:19:25.279531Z"
    },
    "tags": [
     "hide_code"
    ]
   },
   "outputs": [],
   "source": [
    "# # Consultar\n",
    "# con = esaj.page.processo.Consultar(driver=driver)\n",
    "# con.consultar(grau=proced.instancia)"
   ]
  },
  {
   "cell_type": "markdown",
   "metadata": {},
   "source": [
    "<br>\n",
    "\n",
    "A função abaixo avalia se a pesquisa retornou algum resultado.\n"
   ]
  },
  {
   "cell_type": "code",
   "execution_count": 76,
   "metadata": {
    "ExecuteTime": {
     "end_time": "2025-03-25T19:19:28.672027Z",
     "start_time": "2025-03-25T19:19:25.585432Z"
    }
   },
   "outputs": [
    {
     "name": "stderr",
     "output_type": "stream",
     "text": [
      "ERROR:root:e-SAJ parece não ter carregado corretamente os elemento!. Veja erro:\n",
      "Message: \n",
      "\n"
     ]
    },
    {
     "data": {
      "text/plain": [
       "True"
      ]
     },
     "execution_count": 76,
     "metadata": {},
     "output_type": "execute_result"
    }
   ],
   "source": [
    "res = esaj.page.processo.CheckResults(driver=driver)\n",
    "res.tem_resultado()"
   ]
  },
  {
   "cell_type": "markdown",
   "metadata": {},
   "source": [
    "<br>\n",
    "\n",
    "---\n",
    "\n",
    "## URLs\n",
    "\n",
    "Avalia, pela _url_, qual o tipo de pesquisa que estamos.\n"
   ]
  },
  {
   "cell_type": "code",
   "execution_count": null,
   "metadata": {
    "ExecuteTime": {
     "end_time": "2025-03-25T19:19:32.085948Z",
     "start_time": "2025-03-25T19:19:32.074121Z"
    }
   },
   "outputs": [],
   "source": [
    "urlparse(url=driver.current_url).path"
   ]
  },
  {
   "cell_type": "code",
   "execution_count": null,
   "metadata": {
    "ExecuteTime": {
     "end_time": "2025-03-25T19:19:34.255199Z",
     "start_time": "2025-03-25T19:19:34.227061Z"
    }
   },
   "outputs": [],
   "source": [
    "if urlparse(url=driver.current_url).path == '/cpopg/open.do':\n",
    "    print('Página de Pesquisa de Processos de 1º Grau')\n",
    "\n",
    "elif urlparse(url=driver.current_url).path == '/cposg/search.do':\n",
    "    print('Página de Pesquisa de Processos de 2º Grau')\n",
    "\n",
    "elif urlparse(url=driver.current_url).path == '/cpopg/show.do':\n",
    "    print('Página de Processo de Primeiro Grau')\n",
    "\n",
    "else:\n",
    "    print(urlparse(url=driver.current_url).path)"
   ]
  },
  {
   "cell_type": "code",
   "execution_count": null,
   "metadata": {
    "ExecuteTime": {
     "end_time": "2025-03-25T19:19:35.226849Z",
     "start_time": "2025-03-25T19:19:35.214849Z"
    }
   },
   "outputs": [],
   "source": [
    "driver.current_url"
   ]
  },
  {
   "cell_type": "markdown",
   "metadata": {},
   "source": [
    "<br>\n",
    "\n",
    "---\n",
    "\n",
    "## Cabeçalho\n",
    "\n",
    "O \"cabeçalho\" do processos é uma coleção de todos os atributos que são apresentados ao usuário quando acessa a \"Consulta de Processos\".\n"
   ]
  },
  {
   "cell_type": "code",
   "execution_count": 77,
   "metadata": {
    "ExecuteTime": {
     "end_time": "2025-03-25T19:19:39.256501Z",
     "start_time": "2025-03-25T19:19:37.701737Z"
    }
   },
   "outputs": [
    {
     "name": "stderr",
     "output_type": "stream",
     "text": [
      "ERROR:root:e-SAJ parece não ter carregado corretamente os elemento!. Veja erro:\n",
      "Message: \n",
      "Stacktrace:\n",
      "\tGetHandleVerifier [0x00007FF6C5224C25+3179557]\n",
      "\t(No symbol) [0x00007FF6C4E888A0]\n",
      "\t(No symbol) [0x00007FF6C4D191CA]\n",
      "\t(No symbol) [0x00007FF6C4D6FA67]\n",
      "\t(No symbol) [0x00007FF6C4D6FC9C]\n",
      "\t(No symbol) [0x00007FF6C4DC3627]\n",
      "\t(No symbol) [0x00007FF6C4D97C6F]\n",
      "\t(No symbol) [0x00007FF6C4DC02F3]\n",
      "\t(No symbol) [0x00007FF6C4D97A03]\n",
      "\t(No symbol) [0x00007FF6C4D606D0]\n",
      "\t(No symbol) [0x00007FF6C4D61983]\n",
      "\tGetHandleVerifier [0x00007FF6C52867CD+3579853]\n",
      "\tGetHandleVerifier [0x00007FF6C529D1D2+3672530]\n",
      "\tGetHandleVerifier [0x00007FF6C5292153+3627347]\n",
      "\tGetHandleVerifier [0x00007FF6C4FF092A+868650]\n",
      "\t(No symbol) [0x00007FF6C4E92FFF]\n",
      "\t(No symbol) [0x00007FF6C4E8F4A4]\n",
      "\t(No symbol) [0x00007FF6C4E8F646]\n",
      "\t(No symbol) [0x00007FF6C4E7EAA9]\n",
      "\tBaseThreadInitThunk [0x00007FFD78E5E8D7+23]\n",
      "\tRtlUserThreadStart [0x00007FFD7A57BF6C+44]\n",
      "\n"
     ]
    },
    {
     "data": {
      "text/plain": [
       "{'classe': 'Execução de Título Extrajudicial',\n",
       " 'assunto': 'Liquidação / Cumprimento / Execução',\n",
       " 'foro': 'Foro Central Cível',\n",
       " 'vara': '1ª Vara Cível',\n",
       " 'juiz': 'RODRIGO RAMOS',\n",
       " 'distribuicao': '08/03/2012 às 14:13 - Livre',\n",
       " 'n_controle': '2012/000478',\n",
       " 'area': 'Cível',\n",
       " 'valor_acao': 'R$ 3.166,54',\n",
       " 'outros_numeros': '583.00.2012.123479',\n",
       " 'local_fisico': '15/03/2019 00:00 - Arquivo Geral - Em 15/03/19',\n",
       " 'outros_assuntos': None}"
      ]
     },
     "execution_count": 77,
     "metadata": {},
     "output_type": "execute_result"
    }
   ],
   "source": [
    "# head = Header(driver=driver)\n",
    "head = esaj.page.processo.registro.Header(driver=driver)\n",
    "header_data = head.get_class()\n",
    "header_data"
   ]
  },
  {
   "cell_type": "code",
   "execution_count": 78,
   "metadata": {
    "ExecuteTime": {
     "end_time": "2025-03-25T19:19:37.001896Z",
     "start_time": "2025-03-25T19:19:36.995691Z"
    },
    "tags": [
     "hide_code"
    ]
   },
   "outputs": [],
   "source": [
    "# class Header(PageElement):\n",
    "#     \"\"\"\n",
    "#     Representa o Header, ou seja, as informações do processo.\n",
    "#     Deverá servir para processos de Primeiro e Segundo Graus\n",
    "#     \"\"\"\n",
    "\n",
    "#     # Informação Básica\n",
    "#     classe = (By.XPATH, '//*[@id=\"classeProcesso\"]')\n",
    "#     assunto = (By.XPATH, '//*[@id=\"assuntoProcesso\"]')\n",
    "#     foro = (By.XPATH, '//*[@id=\"foroProcesso\"]')\n",
    "#     vara = (By.XPATH, '//*[@id=\"varaProcesso\"]')\n",
    "#     juiz = (By.XPATH, '//*[@id=\"juizProcesso\"]')\n",
    "\n",
    "#     # Após Clicar em \"Ver Mais\"\n",
    "#     distribuicao = (By.XPATH, '//*[@id=\"dataHoraDistribuicaoProcesso\"]')\n",
    "#     n_controle = (By.XPATH, '//*[@id=\"numeroControleProcesso\"]')\n",
    "#     area = (By.XPATH, '//*[@id=\"areaProcesso\"]')\n",
    "#     valor_acao = (By.XPATH, '//*[@id=\"valorAcaoProcesso\"]')\n",
    "\n",
    "#     # Outros\n",
    "#     outros_numeros = (\n",
    "#         By.XPATH,\n",
    "#         '//*[@class=\"unj-label\" and contains(text(),\"Outros números\")]/following-sibling::div',\n",
    "#     )\n",
    "#     local_fisico = (\n",
    "#         By.XPATH,\n",
    "#         '//*[@class=\"unj-label\" and contains(text(),\"Local Físico\")]/following-sibling::div',\n",
    "#     )\n",
    "#     outros_assuntos = (\n",
    "#         By.XPATH,\n",
    "#         '//*[@class=\"unj-label\" and contains(text(),\"Outros assuntos\")]/following-sibling::div',\n",
    "#     )\n",
    "\n",
    "#     # Ver Mais\n",
    "#     ver_mais = (\n",
    "#         By.XPATH,\n",
    "#         '//div[@class=\"unj-entity-header\"]//*[@href=\"#maisDetalhes\"]',\n",
    "#     )\n",
    "\n",
    "#     def get_class(self) -> None:\n",
    "#         \"\"\"\n",
    "#         Define o \"Nº do Documento da Delegacia\".\n",
    "#         \"\"\"\n",
    "#         self.clica_ver_mais()\n",
    "#         dd_dados = {\n",
    "#             'classe': self.get_text(locator=self.classe),\n",
    "#             'assunto': self.get_text(locator=self.assunto),\n",
    "#             'foro': self.get_text(locator=self.foro),\n",
    "#             'vara': self.get_text(locator=self.vara),\n",
    "#             'juiz': self.get_text(locator=self.juiz),\n",
    "#             # Ver Mais\n",
    "#             'distribuicao': self.get_text(locator=self.distribuicao, wait=1),\n",
    "#             'n_controle': self.get_text(locator=self.n_controle, wait=1),\n",
    "#             'area': self.get_text(locator=self.area, wait=1),\n",
    "#             'valor_acao': self.get_text(locator=self.valor_acao, wait=1),\n",
    "#             # Outros\n",
    "#             'outros_numeros': self.get_text(\n",
    "#                 locator=self.outros_numeros, wait=1\n",
    "#             ),\n",
    "#             'local_fisico': self.get_text(locator=self.local_fisico, wait=1),\n",
    "#             'outros_assuntos': self.get_text(\n",
    "#                 locator=self.outros_assuntos, wait=1\n",
    "#             ),\n",
    "#         }\n",
    "\n",
    "#         # Ver Menos / Recolher\n",
    "#         self.clica_ver_menos()\n",
    "#         return dd_dados\n",
    "\n",
    "#     def clica_ver_mais(self):\n",
    "#         if (\n",
    "#             self.attribute(locator=self.ver_mais, attribute='aria-expanded')\n",
    "#             == 'false'\n",
    "#         ):\n",
    "#             self.click(locator=self.ver_mais)\n",
    "\n",
    "#     def clica_ver_menos(self):\n",
    "#         if (\n",
    "#             self.attribute(locator=self.ver_mais, attribute='aria-expanded')\n",
    "#             != 'false'\n",
    "#         ):\n",
    "#             self.click(locator=self.ver_mais)"
   ]
  },
  {
   "cell_type": "code",
   "execution_count": 79,
   "metadata": {
    "ExecuteTime": {
     "end_time": "2025-03-25T19:19:45.392818Z",
     "start_time": "2025-03-25T19:19:45.389940Z"
    },
    "tags": [
     "hide_code"
    ]
   },
   "outputs": [],
   "source": [
    "# head.clica_ver_mais()"
   ]
  },
  {
   "cell_type": "code",
   "execution_count": 80,
   "metadata": {
    "ExecuteTime": {
     "end_time": "2025-03-25T19:19:45.597773Z",
     "start_time": "2025-03-25T19:19:45.593631Z"
    },
    "tags": [
     "hide_code"
    ]
   },
   "outputs": [],
   "source": [
    "# head.clica_ver_menos()"
   ]
  },
  {
   "cell_type": "code",
   "execution_count": 81,
   "metadata": {
    "ExecuteTime": {
     "end_time": "2025-03-25T19:19:45.768830Z",
     "start_time": "2025-03-25T19:19:45.764829Z"
    },
    "tags": [
     "hide_code"
    ]
   },
   "outputs": [],
   "source": [
    "# # Cabeçalho\n",
    "# #classe = driver.find_element(By.XPATH, '//*[@id=\"classeProcesso\"]').text\n",
    "# assunto = driver.find_element(By.XPATH, ).text\n",
    "# foro = driver.find_element(By.XPATH, '//*[@id=\"foroProcesso\"]').text\n",
    "# vara = driver.find_element(By.XPATH, '//*[@id=\"varaProcesso\"]').text\n",
    "# juiz = driver.find_element(By.XPATH, '//*[@id=\"juizProcesso\"]').text"
   ]
  },
  {
   "cell_type": "markdown",
   "metadata": {},
   "source": [
    "<br>\n",
    "\n",
    "---\n",
    "\n",
    "## Partes\n",
    "\n",
    "Obtem as partes do processos e seus atributos.\n"
   ]
  },
  {
   "cell_type": "code",
   "execution_count": 82,
   "metadata": {
    "ExecuteTime": {
     "end_time": "2025-03-25T19:20:03.612450Z",
     "start_time": "2025-03-25T19:20:03.301285Z"
    }
   },
   "outputs": [
    {
     "data": {
      "text/plain": [
       "[{'requerente': 'Oneida Correa Nunes Umburanas'},\n",
       " {'advogado': 'Moira Regina de Toledo Bossolani'},\n",
       " {'requerido': 'Tancredo Ferreira da Silva Junior'},\n",
       " {'requerido': 'Gislene Teixeira da Silva'}]"
      ]
     },
     "execution_count": 82,
     "metadata": {},
     "output_type": "execute_result"
    }
   ],
   "source": [
    "parte = esaj.page.processo.registro.Partes(driver=driver)\n",
    "parte.get_partes()"
   ]
  },
  {
   "cell_type": "code",
   "execution_count": 83,
   "metadata": {
    "ExecuteTime": {
     "end_time": "2025-03-25T19:19:46.150431Z",
     "start_time": "2025-03-25T19:19:46.145020Z"
    },
    "tags": [
     "hide_code"
    ]
   },
   "outputs": [],
   "source": [
    "# class Partes(PageElement):\n",
    "#     \"\"\"\n",
    "#     Representa a Sessão que contem as Partes do Processo.\n",
    "#     Deverá servir para processos de Primeiro e Segundo Graus\n",
    "#     Por ora só funciona para processos de 1º grau!\n",
    "#     \"\"\"\n",
    "\n",
    "#     # Tabela\n",
    "#     tabela_linhas = (By.XPATH, '//table[@id=\"tableTodasPartes\"]//tbody//tr')\n",
    "\n",
    "#     # Ver Mais\n",
    "#     ver_mais_loc = (\n",
    "#         By.XPATH,\n",
    "#         '//*[@id=\"divLinksTituloBlocoPartes\"]',\n",
    "#     )\n",
    "#     ver_mais = (\n",
    "#         By.XPATH,\n",
    "#         '//*[@id=\"linkpartes\"]//i',\n",
    "#     )\n",
    "\n",
    "#     def get_partes(self) -> None:\n",
    "#         \"\"\"\n",
    "#         Define o \"Nº do Documento da Delegacia\".\n",
    "#         \"\"\"\n",
    "\n",
    "#         self.clica_ver_mais()\n",
    "\n",
    "#         rows = self.find_all(locator=self.tabela_linhas)\n",
    "#         dd = []\n",
    "#         for i in rows:\n",
    "#             list_itens = i.text.strip().split('\\n', maxsplit=1)\n",
    "#             for item in list_itens:\n",
    "#                 # print(item)\n",
    "\n",
    "#                 if item.startswith('Reqte  '):\n",
    "#                     item = item.replace('Reqte  ', '').strip()\n",
    "#                     # print(item)\n",
    "#                     dd.append({'requerente': item})\n",
    "\n",
    "#                 if item.startswith('Reqdo  '):\n",
    "#                     item = item.replace('Reqdo  ', '').strip()\n",
    "#                     # print(item)\n",
    "#                     dd.append({'requerido': item})\n",
    "\n",
    "#                 if item.startswith('Advogada:  ') or item.startswith(\n",
    "#                     'Advogado:  '\n",
    "#                 ):\n",
    "#                     item = (\n",
    "#                         item.replace('Advogada:  ', '')\n",
    "#                         .replace('Advogado:  ', '')\n",
    "#                         .strip()\n",
    "#                     )\n",
    "#                     # print(item)\n",
    "#                     dd.append({'advogado': item})\n",
    "\n",
    "#         self.clica_ver_menos()\n",
    "#         return dd\n",
    "\n",
    "#     def clica_ver_mais(self):\n",
    "#         # aaa = self.find(locator=self.ver_mais)\n",
    "#         # self.script(\"arguments[0].scrollIntoView();\", aaa)\n",
    "#         self.script(\"scrollBy(0,0);\")\n",
    "\n",
    "#         # Vai até o botão do Ver Mais\n",
    "#         self.script(\n",
    "#             \"arguments[0].scrollIntoView();\",\n",
    "#             self.find(locator=self.ver_mais_loc),\n",
    "#         )\n",
    "#         # Sobe um pouco\n",
    "#         self.driver.execute_script(\"window.scrollBy(0, -250);\")\n",
    "\n",
    "#         if (\n",
    "#             self.attribute(locator=self.ver_mais, attribute='class')\n",
    "#             == 'unj-link-collapse__icon glyph glyph-chevron-down'\n",
    "#         ):\n",
    "#             self.click(locator=self.ver_mais)\n",
    "\n",
    "#             # Vai até o botão do Ver Mais\n",
    "#             self.script(\n",
    "#                 \"arguments[0].scrollIntoView();\",\n",
    "#                 self.find(locator=self.ver_mais_loc),\n",
    "#             )\n",
    "#             # Sobe um pouco\n",
    "#             driver.execute_script(\"window.scrollBy(0, -250);\")\n",
    "\n",
    "#     def clica_ver_menos(self):\n",
    "#         # Vai até o botão do Ver Mais\n",
    "#         self.script(\n",
    "#             \"arguments[0].scrollIntoView();\",\n",
    "#             self.find(locator=self.ver_mais_loc),\n",
    "#         )\n",
    "#         # Sobe um pouco\n",
    "#         self.driver.execute_script(\"window.scrollBy(0, -250);\")\n",
    "#         # self.script(\"scrollBy(0,0);\")\n",
    "\n",
    "#         if (\n",
    "#             self.attribute(locator=self.ver_mais, attribute='class')\n",
    "#             != 'unj-link-collapse__icon glyph glyph-chevron-down'\n",
    "#         ):\n",
    "#             self.click(locator=self.ver_mais)\n",
    "\n",
    "#             # Vai até o botão do Ver Mais\n",
    "#             self.script(\n",
    "#                 \"arguments[0].scrollIntoView();\",\n",
    "#                 self.find(locator=self.ver_mais_loc),\n",
    "#             )\n",
    "#             # Sobe um pouco\n",
    "#             self.driver.execute_script(\"window.scrollBy(0, -250);\")"
   ]
  },
  {
   "cell_type": "code",
   "execution_count": null,
   "metadata": {
    "tags": [
     "hide_code"
    ]
   },
   "outputs": [],
   "source": [
    "# parte = Partes(driver=driver)\n",
    "# parte.clica_ver_mais()"
   ]
  },
  {
   "cell_type": "code",
   "execution_count": 85,
   "metadata": {
    "ExecuteTime": {
     "end_time": "2025-03-25T19:19:48.217829Z",
     "start_time": "2025-03-25T19:19:48.213479Z"
    },
    "tags": [
     "hide_code"
    ]
   },
   "outputs": [],
   "source": [
    "# xpath = '//*[@id=\"linkpartes\"]//i'\n",
    "# aaa = driver.find_element(by=By.XPATH, value=xpath)\n",
    "# aaa\n",
    "\n",
    "# # driver.execute_script(\"return arguments[0].scrollIntoView();\", xpath)\n",
    "# # driver.execute_script(\"arguments[0].scrollIntoView();\", aaa)"
   ]
  },
  {
   "cell_type": "code",
   "execution_count": 86,
   "metadata": {
    "tags": [
     "hide_code"
    ]
   },
   "outputs": [],
   "source": [
    "# parte.clica_ver_menos()"
   ]
  },
  {
   "cell_type": "code",
   "execution_count": 87,
   "metadata": {
    "tags": [
     "hide_code"
    ]
   },
   "outputs": [],
   "source": [
    "# table = driver.find_element(\n",
    "#     by=By.XPATH, value='//table[@id=\"tableTodasPartes\"]//tbody'\n",
    "# )\n",
    "\n",
    "# dd = []\n",
    "# for i in table.find_elements(by=By.XPATH, value='.//tr'):\n",
    "#     list_itens = i.text.strip().split('\\n', maxsplit=1)\n",
    "#     for item in list_itens:\n",
    "#         # print(item)\n",
    "\n",
    "#         if item.startswith('Reqte  '):\n",
    "#             item = item.replace('Reqte  ', '').strip()\n",
    "#             # print(item)\n",
    "#             dd.append({'requerente': item})\n",
    "\n",
    "#         if item.startswith('Reqdo  '):\n",
    "#             item = item.replace('Reqdo  ', '').strip()\n",
    "#             # print(item)\n",
    "#             dd.append({'requerido': item})\n",
    "\n",
    "#         if item.startswith('Advogada:  ') or item.startswith('Advogado:  '):\n",
    "#             item = (\n",
    "#                 item.replace('Advogada:  ', '')\n",
    "#                 .replace('Advogado:  ', '')\n",
    "#                 .strip()\n",
    "#             )\n",
    "#             # print(item)\n",
    "#             dd.append({'advogado': item})\n",
    "\n",
    "# dd"
   ]
  },
  {
   "cell_type": "markdown",
   "metadata": {},
   "source": [
    "<br>\n",
    "\n",
    "---\n",
    "\n",
    "## Movimentação\n",
    "\n",
    "Obtem a lista de movimentações/andamentos do processo.\n"
   ]
  },
  {
   "cell_type": "code",
   "execution_count": 88,
   "metadata": {},
   "outputs": [
    {
     "data": {
      "text/plain": [
       "[{'data_movimentacao': '15/03/2019',\n",
       "  'descricao': 'Arquivado Provisoriamente - Execução Frustrada\\nSuspenso nos termos do artigo, 921 III do CPC.'},\n",
       " {'data_movimentacao': '15/03/2019',\n",
       "  'descricao': 'Certidão de Publicação Expedida\\nRelação :0077/2019 Data da Disponibilização: 15/03/2019 Data da Publicação: 18/03/2019 Número do Diário: 2768 Página: 1'},\n",
       " {'data_movimentacao': '14/03/2019',\n",
       "  'descricao': 'Remetido ao DJE\\nRelação: 0077/2019 Teor do ato: Vistos. Defiro a suspensão da execução, nos termos do artigo 921, III do CPC, como requerido pela parte autora, pelo prazo de 1 ano, durante o qual se suspenderá a prescrição. Anote-se que, durante o prazo de suspensão, não serão praticados atos processuais, salvo as providências consideradas urgentes. Aguarde-se no arquivo. Intimem-se. Advogados(s): Moira Regina de Toledo Bossolani (OAB 185807/SP)'},\n",
       " {'data_movimentacao': '14/03/2019',\n",
       "  'descricao': 'Processo Suspenso ou Sobrestado por Execução Frustrada\\nVistos. Defiro a suspensão da execução, nos termos do artigo 921, III do CPC, como requerido pela parte autora, pelo prazo de 1 ano, durante o qual se suspenderá a prescrição. Anote-se que, durante o prazo de suspensão, não serão praticados atos processuais, salvo as providências consideradas urgentes. Aguarde-se no arquivo. Intimem-se.'},\n",
       " {'data_movimentacao': '12/03/2019', 'descricao': 'Conclusos para Decisão'},\n",
       " {'data_movimentacao': '12/02/2019',\n",
       "  'descricao': 'Recebidos os Autos do Arquivo Geral'},\n",
       " {'data_movimentacao': '26/11/2018',\n",
       "  'descricao': 'Petição Juntada\\nJuntada a petição diversa - Tipo: Petições Diversas em Execução de Título Extrajudicial - Número: 80008 - Protocolo: FJMJ18016156644'},\n",
       " {'data_movimentacao': '19/10/2018',\n",
       "  'descricao': 'Arquivado Provisoriamente\\nArquivados por falta de andamento em 19/10/2018'},\n",
       " {'data_movimentacao': '19/10/2018',\n",
       "  'descricao': 'Certidão de Publicação Expedida\\nRelação :0381/2018 Data da Disponibilização: 19/10/2018 Data da Publicação: 22/10/2018 Número do Diário: 2683 Página: 1'},\n",
       " {'data_movimentacao': '18/10/2018',\n",
       "  'descricao': 'Remetido ao DJE\\nRelação: 0381/2018 Teor do ato: Vistos. Ante a inércia do exequente, aguarde-se em arquivo. Intime-se. Advogados(s): Moira Regina de Toledo Alkessuani (OAB 185807/SP)'},\n",
       " {'data_movimentacao': '18/10/2018',\n",
       "  'descricao': 'Decisão\\nVistos. Ante a inércia do exequente, aguarde-se em arquivo. Intime-se.'},\n",
       " {'data_movimentacao': '16/10/2018',\n",
       "  'descricao': 'Conclusos para Decisão\\n17/10'},\n",
       " {'data_movimentacao': '22/08/2018',\n",
       "  'descricao': 'Certidão de Publicação Expedida\\nRelação :0294/2018 Data da Disponibilização: 22/08/2018 Data da Publicação: 23/08/2018 Número do Diário: 2643 Página: 01/06'},\n",
       " {'data_movimentacao': '21/08/2018',\n",
       "  'descricao': 'Remetido ao DJE\\nRelação: 0294/2018 Teor do ato: Ciência a parte interessada da pesquisa realizada via infojud fls 261/263 Advogados(s): Moira Regina de Toledo Alkessuani (OAB 185807/SP)'},\n",
       " {'data_movimentacao': '20/08/2018',\n",
       "  'descricao': 'Ato ordinatório\\nCiência a parte interessada da pesquisa realizada via infojud fls 261/263'},\n",
       " {'data_movimentacao': '20/08/2018',\n",
       "  'descricao': 'Decisão\\nVistos. Proceda-se à pesquisa de bens via Infojud, limitada ao último exercício, em nome de Tancredo Ferreira da Silva Júnior, CPF 154.118.398-31, e Gislene Teixeira da Silva. CPF 294.911.908-57. Intime-se.'},\n",
       " {'data_movimentacao': '16/08/2018',\n",
       "  'descricao': 'Conclusos para Decisão\\n17/08'},\n",
       " {'data_movimentacao': '07/08/2018',\n",
       "  'descricao': 'Petição Juntada\\nJuntada a petição diversa - Tipo: Petições Diversas em Execução de Título Extrajudicial - Número: 80007 - Protocolo: FJMJ18014194379'},\n",
       " {'data_movimentacao': '01/08/2018',\n",
       "  'descricao': 'Certidão de Publicação Expedida\\nRelação :0245/2018 Data da Disponibilização: 20/07/2018 Data da Publicação: 23/07/2018 Número do Diário: 2620 Página: 1/5'},\n",
       " {'data_movimentacao': '19/07/2018',\n",
       "  'descricao': 'Remetido ao DJE\\nRelação: 0245/2018 Teor do ato: Ciência do ofício juntado. Advogados(s): Moira Regina de Toledo Alkessuani (OAB 185807/SP)'},\n",
       " {'data_movimentacao': '19/07/2018',\n",
       "  'descricao': 'Ato ordinatório\\nCiência do ofício juntado.'},\n",
       " {'data_movimentacao': '10/05/2018',\n",
       "  'descricao': 'Certidão de Publicação Expedida\\nRelação :0146/2018 Data da Disponibilização: 10/05/2018 Data da Publicação: 11/05/2018 Número do Diário: 2572 Página: 74'},\n",
       " {'data_movimentacao': '09/05/2018',\n",
       "  'descricao': 'Remetido ao DJE\\nRelação: 0146/2018 Teor do ato: Vistos.Oficie-se à Secretaria da Receita Federal solicitando a o encaminhamento de eventual Declaração de Operações Imobiliárias (DOI) dos executados Tancredo Ferreira da Silva Júnior, CPF 154.118.398-31 e Gislene Teixeira da Silva, CPF 294.911.908-57.Servirá a presente decisão como ofício a ser encaminhado pela exequente.Intime-se. Advogados(s): Moira Regina de Toledo Alkessuani (OAB 185807/SP)'},\n",
       " {'data_movimentacao': '09/05/2018',\n",
       "  'descricao': 'Decisão\\nVistos.Oficie-se à Secretaria da Receita Federal solicitando a o encaminhamento de eventual Declaração de Operações Imobiliárias (DOI) dos executados Tancredo Ferreira da Silva Júnior, CPF 154.118.398-31 e Gislene Teixeira da Silva, CPF 294.911.908-57.Servirá a presente decisão como ofício a ser encaminhado pela exequente.Intime-se.'},\n",
       " {'data_movimentacao': '08/05/2018', 'descricao': 'Conclusos para Decisão'},\n",
       " {'data_movimentacao': '20/04/2018',\n",
       "  'descricao': 'Certidão de Publicação Expedida\\nRelação :0119/2018 Data da Disponibilização: 20/04/2018 Data da Publicação: 23/04/2018 Número do Diário: 2560 Página: 78'},\n",
       " {'data_movimentacao': '19/04/2018',\n",
       "  'descricao': 'Remetido ao DJE\\nRelação: 0119/2018 Teor do ato: Vistos.Renove-se a intimação por mandado.Diligência do Juízo.Intime-se. Advogados(s): Moira Regina de Toledo Alkessuani (OAB 185807/SP)'},\n",
       " {'data_movimentacao': '18/04/2018',\n",
       "  'descricao': 'Decisão\\nVistos.Renove-se a intimação por mandado.Diligência do Juízo.Intime-se.'},\n",
       " {'data_movimentacao': '17/04/2018', 'descricao': 'Conclusos para Decisão'},\n",
       " {'data_movimentacao': '10/04/2018',\n",
       "  'descricao': 'Conclusos para Despacho\\nFILA DE 10/04'},\n",
       " {'data_movimentacao': '07/03/2018',\n",
       "  'descricao': 'Certidão de Publicação Expedida\\nRelação :0056/2018 Data da Disponibilização: 07/03/2018 Data da Publicação: 08/03/2018 Número do Diário: 2530 Página: 82'},\n",
       " {'data_movimentacao': '06/03/2018',\n",
       "  'descricao': 'Remetido ao DJE\\nRelação: 0056/2018 Teor do ato: Vistos.Ante a certidão retro, intime-se o autor por carta para que promova os atos e diligências que lhe competem e cuja ausência está a impedir o andamento do feito no prazo de 5 dias, sob pena de extinção (art. 485, inc. III e §1º do CPC).Intime-se. Advogados(s): Moira Regina de Toledo Alkessuani (OAB 185807/SP)'},\n",
       " {'data_movimentacao': '06/03/2018',\n",
       "  'descricao': 'Decisão\\nVistos.Ante a certidão retro, intime-se o autor por carta para que promova os atos e diligências que lhe competem e cuja ausência está a impedir o andamento do feito no prazo de 5 dias, sob pena de extinção (art. 485, inc. III e §1º do CPC).Intime-se.'},\n",
       " {'data_movimentacao': '05/12/2017',\n",
       "  'descricao': 'Certidão de Publicação Expedida\\nRelação :0480/2017 Data da Disponibilização: 05/12/2017 Data da Publicação: 06/12/2017 Número do Diário: 2482 Página: 81'},\n",
       " {'data_movimentacao': '04/12/2017',\n",
       "  'descricao': 'Remetido ao DJE\\nRelação: 0480/2017 Teor do ato: Ciência do Ofício juntado. Advogados(s): Moira Regina de Toledo Alkessuani (OAB 185807/SP)'},\n",
       " {'data_movimentacao': '04/12/2017',\n",
       "  'descricao': 'Ato ordinatório\\nCiência do Ofício juntado.'},\n",
       " {'data_movimentacao': '17/11/2017',\n",
       "  'descricao': 'Certidão de Publicação Expedida\\nRelação :0458/2017 Data da Disponibilização: 17/11/2017 Data da Publicação: 20/11/2017 Número do Diário: 2471 Página: 1'},\n",
       " {'data_movimentacao': '16/11/2017',\n",
       "  'descricao': 'Remetido ao DJE\\nRelação: 0458/2017 Teor do ato: Ciência do Ofício. Advogados(s): Moira Regina de Toledo Alkessuani (OAB 185807/SP)'},\n",
       " {'data_movimentacao': '16/11/2017',\n",
       "  'descricao': 'Ato ordinatório\\nCiência do Ofício.'},\n",
       " {'data_movimentacao': '28/09/2017',\n",
       "  'descricao': 'Certidão de Publicação Expedida\\nRelação :0387/2017 Data da Disponibilização: 28/09/2017 Data da Publicação: 29/09/2017 Número do Diário: 2440 Página: 67'},\n",
       " {'data_movimentacao': '27/09/2017',\n",
       "  'descricao': 'Remetido ao DJE\\nRelação: 0387/2017 Teor do ato: Vistos.Oficie-se ao Instituto Nacional do Seguro Social (INSS) a fim de que informe a natureza e o valor dos proventos previdenciários eventualmente percebidos pelos executados, bem como à Caixa Econômica Federal (CEF), para que informe há recentes depósitos, a título de FGTS, em favor dos executados e qual o nome do depositante.Dados dos executados:1) Tancredo Ferreira da Silva Júnior, CPF 154.118.398-31;2) Gislene Teixeira da Silva, CPF 294.911.908-57.Servirá a presente decisão, por cópia assinada digitalmente, como OFÍCIO.Intime-se. Advogados(s): Moira Regina de Toledo Alkessuani (OAB 185807/SP)'},\n",
       " {'data_movimentacao': '27/09/2017',\n",
       "  'descricao': 'Decisão\\nVistos.Oficie-se ao Instituto Nacional do Seguro Social (INSS) a fim de que informe a natureza e o valor dos proventos previdenciários eventualmente percebidos pelos executados, bem como à Caixa Econômica Federal (CEF), para que informe há recentes depósitos, a título de FGTS, em favor dos executados e qual o nome do depositante.Dados dos executados:1) Tancredo Ferreira da Silva Júnior, CPF 154.118.398-31;2) Gislene Teixeira da Silva, CPF 294.911.908-57.Servirá a presente decisão, por cópia assinada digitalmente, como OFÍCIO.Intime-se.'},\n",
       " {'data_movimentacao': '25/09/2017',\n",
       "  'descricao': 'Conclusos para Decisão\\n26/09'},\n",
       " {'data_movimentacao': '17/08/2017',\n",
       "  'descricao': 'Certidão de Publicação Expedida\\nRelação :0325/2017 Data da Disponibilização: 17/08/2017 Data da Publicação: 18/08/2017 Número do Diário: 2412 Página: 82'},\n",
       " {'data_movimentacao': '16/08/2017',\n",
       "  'descricao': 'Remetido ao DJE\\nRelação: 0325/2017 Teor do ato: Ciência à parte exequente acerca do resultado negativo da pesquisa de bens realizada via sistema Infojud. Manifeste-se requerendo em termos de prosseguimento no prazo de 15 dias. Advogados(s): Moira Regina de Toledo Alkessuani (OAB 185807/SP)'},\n",
       " {'data_movimentacao': '16/08/2017',\n",
       "  'descricao': 'Ato ordinatório\\nCiência à parte exequente acerca do resultado negativo da pesquisa de bens realizada via sistema Infojud. Manifeste-se requerendo em termos de prosseguimento no prazo de 15 dias.'},\n",
       " {'data_movimentacao': '11/08/2017',\n",
       "  'descricao': 'Certidão de Publicação Expedida\\nRelação :0317/2017 Data da Disponibilização: 11/08/2017 Data da Publicação: 14/08/2017 Número do Diário: 2408 Página: 01'},\n",
       " {'data_movimentacao': '10/08/2017',\n",
       "  'descricao': 'Remetido ao DJE\\nRelação: 0317/2017 Teor do ato: Vistos.Defiro a requisição de cópia da última declaração de IR dos executados indicados a fls.203 via INFOJUD. Forme-se o 2º volume.Intime-se. Advogados(s): Moira Regina de Toledo Alkessuani (OAB 185807/SP)'},\n",
       " {'data_movimentacao': '09/08/2017',\n",
       "  'descricao': 'Decisão\\nVistos.Defiro a requisição de cópia da última declaração de IR dos executados indicados a fls.203 via INFOJUD. Forme-se o 2º volume.Intime-se.'},\n",
       " {'data_movimentacao': '31/05/2017',\n",
       "  'descricao': 'Certidão de Publicação Expedida\\nRelação :0198/2017 Data da Disponibilização: 31/05/2017 Data da Publicação: 01/06/2017 Número do Diário: 2358 Página: 01'},\n",
       " {'data_movimentacao': '30/05/2017',\n",
       "  'descricao': 'Remetido ao DJE\\nRelação: 0198/2017 Teor do ato: Ciência da juntada de ofícios. Advogados(s): Moira Regina de Toledo Alkessuani (OAB 185807/SP)'},\n",
       " {'data_movimentacao': '29/05/2017',\n",
       "  'descricao': 'Ato ordinatório\\nCiência da juntada de ofícios.'},\n",
       " {'data_movimentacao': '22/05/2017',\n",
       "  'descricao': 'Certidão de Publicação Expedida\\nRelação :0183/2017 Data da Disponibilização: 22/05/2017 Data da Publicação: 23/05/2017 Número do Diário: 2351 Página: 01'},\n",
       " {'data_movimentacao': '19/05/2017',\n",
       "  'descricao': 'Remetido ao DJE\\nRelação: 0183/2017 Teor do ato: Ciência dos ofícios juntados. Advogados(s): Moira Regina de Toledo Alkessuani (OAB 185807/SP)'},\n",
       " {'data_movimentacao': '18/05/2017', 'descricao': 'Autos no Prazo'},\n",
       " {'data_movimentacao': '18/05/2017',\n",
       "  'descricao': 'Ato ordinatório\\nCiência dos ofícios juntados.'},\n",
       " {'data_movimentacao': '04/11/2016',\n",
       "  'descricao': 'Autos no Prazo\\n16/11\\nVencimento: 16/11/2016'},\n",
       " {'data_movimentacao': '26/09/2016',\n",
       "  'descricao': 'Certidão de Publicação Expedida\\nRelação :0424/2016 Data da Disponibilização: 26/09/2016 Data da Publicação: 27/09/2016 Número do Diário: 2208 Página:'},\n",
       " {'data_movimentacao': '26/09/2016',\n",
       "  'descricao': 'Certidão de Publicação Expedida\\nRelação :0424/2016 Data da Disponibilização: 26/09/2016 Data da Publicação: 27/09/2016 Número do Diário: 2208 Página:'},\n",
       " {'data_movimentacao': '23/09/2016',\n",
       "  'descricao': 'Remetido ao DJE\\nRelação: 0424/2016 Teor do ato: Vistos. Defiro o pedido de expedição de ofício à SUSEP – Superintendência de Seguros Privados, a fim de que informe a existência e a natureza de eventual apólice , com o apontamento do numerário acumulado, se o caso, contratada pelos executados, Tancredo Ferreira da Silva Júnior, CPF 154.118.398-31, e Gislene Teixeira da Silva , CPF 294.911.908-57, devendo a própria parte encaminhar o ofício, bem como comprovar seu protocolo no prazo de 5 dias. Servirá a presente decisão, por cópia assinada digitalmente, como OFÍCIO. Intime-se. Advogados(s): Moira Regina de Toledo Alkessuani (OAB 185807/SP)'},\n",
       " {'data_movimentacao': '23/09/2016',\n",
       "  'descricao': 'Remetido ao DJE\\nRelação: 0424/2016 Teor do ato: Vistos. Advogados(s): Moira Regina de Toledo Alkessuani (OAB 185807/SP)'},\n",
       " {'data_movimentacao': '23/09/2016',\n",
       "  'descricao': 'Decisão\\nVistos. Defiro o pedido de expedição de ofício à SUSEP – Superintendência de Seguros Privados, a fim de que informe a existência e a natureza de eventual apólice , com o apontamento do numerário acumulado, se o caso, contratada pelos executados, Tancredo Ferreira da Silva Júnior, CPF 154.118.398-31, e Gislene Teixeira da Silva , CPF 294.911.908-57, devendo a própria parte encaminhar o ofício, bem como comprovar seu protocolo no prazo de 5 dias. Servirá a presente decisão, por cópia assinada digitalmente, como OFÍCIO. Intime-se.'},\n",
       " {'data_movimentacao': '23/09/2016', 'descricao': 'Decisão\\nVistos.'},\n",
       " {'data_movimentacao': '21/09/2016',\n",
       "  'descricao': 'Conclusos para Decisão\\n22/09'},\n",
       " {'data_movimentacao': '29/08/2016',\n",
       "  'descricao': 'Certidão de Publicação Expedida\\nRelação :0378/2016 Data da Disponibilização: 26/08/2016 Data da Publicação: 29/08/2016 Número do Diário: 2188 Página: 01/07'},\n",
       " {'data_movimentacao': '25/08/2016',\n",
       "  'descricao': 'Remetido ao DJE\\nRelação: 0378/2016 Teor do ato: FLS.149: Vistos. Uma vez que a parte executada não foi localizada para citação pessoal, defiro o requerimento da parte exeqüente e, na forma do disposto pelo artigo 854 do Novo CPC, comando bloqueio de ativos financeiros pertencentes à parte executada por meio do sistema BACENJUD, até o limite do débito em execução, o qual, atualizado pelo último índice divulgado da tabela DEPRE (07/2016), alcança o valor de R$ 6.600,14 em nome de Tancredo Ferreira da Silva Júnior, CPF 154.118.398-31, e Gislene Teixeira da Silva, CPF 294.911.908-57. Verifique-se eventual efetivação da ordem no prazo de 48 horas, tornando para tanto os autos conclusos. Localizados e bloqueados recursos, será requisitada sua transferência a conta judicial e será convertido o bloqueio em arresto. Proceda-se à pesquisa via INFOJUD, limitada ao último exercício, cientificando-se o exequente, a seguir, do resultado obtido em nome dos requeridos. Intimem-se oportunamente. São Paulo, 02 de agosto de 2016 FLS.151: Vistos.Bloqueados ativos financeiros, embora ainda em montante inferior ao débito em execução, requisitei sua transferência a conta judicial, convertendo o bloqueio em penhora. Decorridos vinte dias sem que a agência encarregada de receber os depósitos judiciais (Banco do Brasil S/A agência 5905) envie o comprovante de depósito, oficie-se com menção ao número de identificação da transferência requisitando informação imediata acerca da efetivação do depósito.Convertido o bloqueio em penhora, fica a parte executada intimada da constrição pela publicação desta decisão no DJE em nome de seu advogado.Sem prejuízo do acima determinado, ainda insuficiente a constrição, requeira a parte exeqüente em termos de prosseguimento, apresentando cálculo atualizado do débito remanescente e indicando outros bens passíveis de penhora.Ciência das informações negativas extraídas do sistema Infojud que seguem. Intimem-se. Advogados(s): Moira Regina de Toledo Alkessuani (OAB 185807/SP)'},\n",
       " {'data_movimentacao': '23/08/2016',\n",
       "  'descricao': 'Determinada a Transferência e Desbloqueio de Excedentes\\nFLS.149: Vistos. Uma vez que a parte executada não foi localizada para citação pessoal, defiro o requerimento da parte exeqüente e, na forma do disposto pelo artigo 854 do Novo CPC, comando bloqueio de ativos financeiros pertencentes à parte executada por meio do sistema BACENJUD, até o limite do débito em execução, o qual, atualizado pelo último índice divulgado da tabela DEPRE (07/2016), alcança o valor de R$ 6.600,14 em nome de Tancredo Ferreira da Silva Júnior, CPF 154.118.398-31, e Gislene Teixeira da Silva, CPF 294.911.908-57. Verifique-se eventual efetivação da ordem no prazo de 48 horas, tornando para tanto os autos conclusos. Localizados e bloqueados recursos, será requisitada sua transferência a conta judicial e será convertido o bloqueio em arresto. Proceda-se à pesquisa via INFOJUD, limitada ao último exercício, cientificando-se o exequente, a seguir, do resultado obtido em nome dos requeridos. Intimem-se oportunamente. São Paulo, 02 de agosto de 2016 FLS.151: Vistos.Bloqueados ativos financeiros, embora ainda em montante inferior ao débito em execução, requisitei sua transferência a conta judicial, convertendo o bloqueio em penhora. Decorridos vinte dias sem que a agência encarregada de receber os depósitos judiciais (Banco do Brasil S/A agência 5905) envie o comprovante de depósito, oficie-se com menção ao número de identificação da transferência requisitando informação imediata acerca da efetivação do depósito.Convertido o bloqueio em penhora, fica a parte executada intimada da constrição pela publicação desta decisão no DJE em nome de seu advogado.Sem prejuízo do acima determinado, ainda insuficiente a constrição, requeira a parte exeqüente em termos de prosseguimento, apresentando cálculo atualizado do débito remanescente e indicando outros bens passíveis de penhora.Ciência das informações negativas extraídas do sistema Infojud que seguem. Intimem-se.'},\n",
       " {'data_movimentacao': '02/08/2016',\n",
       "  'descricao': 'Conclusos para Decisão\\n02/08'},\n",
       " {'data_movimentacao': '18/07/2016',\n",
       "  'descricao': 'Petição Juntada\\nJuntada 18.07.16.'},\n",
       " {'data_movimentacao': '24/06/2016',\n",
       "  'descricao': 'Certidão de Publicação Expedida\\nRelação :0276/2016 Data da Disponibilização: 24/06/2016 Data da Publicação: 27/06/2016 Número do Diário: 2143 Página: 65/80'},\n",
       " {'data_movimentacao': '23/06/2016',\n",
       "  'descricao': 'Remetido ao DJE\\nRelação: 0276/2016 Teor do ato: Ciência da juntada do mandado negativo. Advogados(s): Moira Regina de Toledo Alkessuani (OAB 185807/SP)'},\n",
       " {'data_movimentacao': '22/06/2016',\n",
       "  'descricao': 'Ato ordinatório\\nCiência da juntada do mandado negativo.'},\n",
       " {'data_movimentacao': '22/06/2016',\n",
       "  'descricao': 'Mandado Devolvido Cumprido Negativo\\nDA Rua Adão Martins de Almeida Castilho, n. 51 casa 04- ai sendo; DEIXEI DE CITAR; Tancredo Ferreira da Silva Junior e Gisele Teixeira da Silva; visto que no local fui atendido por ISAIAS GOMES MENDONÇA, que declarou ser proprietário do imóvel, e que o requerido é seu sobrinho, morou ali, porem se mudou já faz mais de dez(10) anos, e a ultima informação que tem dele, é que ele estaria morando nos ESTADOS UNIDOS DA AMÉRICA(USA), não sabendo dizer o endereço. Tendo em vista o ocorrido devolvo o mandado ao Cartório para os devidos fins.'},\n",
       " {'data_movimentacao': '25/05/2016',\n",
       "  'descricao': 'Mandado Expedido\\nMandado nº: 100.2016/042597-1 Situação: Cumprido - Ato negativo em 14/06/2016 Local: Cartório da 1ª Vara Cível'},\n",
       " {'data_movimentacao': '10/05/2016',\n",
       "  'descricao': 'Expedição de documento\\nDigit mandado - 10/05'},\n",
       " {'data_movimentacao': '06/05/2016',\n",
       "  'descricao': 'Petição Juntada\\nJuntada 09.05.16.'},\n",
       " {'data_movimentacao': '13/04/2016',\n",
       "  'descricao': 'Certidão de Publicação Expedida\\nRelação :0156/2016 Data da Publicação: 14/04/2016 Data da Disponibilização: 13/04/2016 Número do Diário: 2016 Página:'},\n",
       " {'data_movimentacao': '12/04/2016',\n",
       "  'descricao': 'Remetido ao DJE\\nRelação: 0156/2016 Teor do ato: Manifeste-se a exequente sobre as pesquisas efetuadas via Renajud e SIEL. Advogados(s): Moira Regina de Toledo Alkessuani (OAB 185807/SP)'},\n",
       " {'data_movimentacao': '11/04/2016', 'descricao': 'Remetido ao DJE\\nRel. 156'},\n",
       " {'data_movimentacao': '11/04/2016',\n",
       "  'descricao': 'Ato ordinatório\\nManifeste-se a exequente sobre as pesquisas efetuadas via Renajud e SIEL.'},\n",
       " {'data_movimentacao': '10/03/2016',\n",
       "  'descricao': 'Serventuário\\nCom Rogério - Renajud - 10/03'},\n",
       " {'data_movimentacao': '03/02/2016',\n",
       "  'descricao': 'Certidão de Publicação Expedida\\nRelação :0042/2016 Data da Disponibilização: 03/02/2016 Data da Publicação: 04/02/2016 Número do Diário: 2049 Página:'},\n",
       " {'data_movimentacao': '01/02/2016',\n",
       "  'descricao': 'Remetido ao DJE\\nRelação: 0042/2016 Teor do ato: Vistos. Fls. 111: Por ora, considero prematuro a desconsideração eis que não se esgotaram todas as vias para obtenção de endereços dos executados. Providencie o exequente as custas necessárias para a pesquisa de endereços via RENAJUD e SIEL que ainda não foram diligenciadas. Efetuada a pesquisa, manifeste-se a exequente em termos de prosseguimento do feito. Decorrido o prazo sem manifestação, arquivem-se os autos. Intime-se. Advogados(s): Moira Regina de Toledo Alkessuani (OAB 185807/SP)'},\n",
       " {'data_movimentacao': '29/01/2016',\n",
       "  'descricao': 'Remetido ao DJE\\nRelação 42/2016'},\n",
       " {'data_movimentacao': '28/01/2016',\n",
       "  'descricao': 'Decisão\\nVistos. Fls. 111: Por ora, considero prematuro a desconsideração eis que não se esgotaram todas as vias para obtenção de endereços dos executados. Providencie o exequente as custas necessárias para a pesquisa de endereços via RENAJUD e SIEL que ainda não foram diligenciadas. Efetuada a pesquisa, manifeste-se a exequente em termos de prosseguimento do feito. Decorrido o prazo sem manifestação, arquivem-se os autos. Intime-se.'},\n",
       " {'data_movimentacao': '27/01/2016',\n",
       "  'descricao': 'Conclusos para Decisão\\nEm 28/01/2016'},\n",
       " {'data_movimentacao': '14/12/2015',\n",
       "  'descricao': 'Certidão de Publicação Expedida\\nRelação :0399/2015 Data da Disponibilização: 14/12/2015 Data da Publicação: 15/12/2015 Número do Diário: 2026 Página:'},\n",
       " {'data_movimentacao': '11/12/2015',\n",
       "  'descricao': 'Remetido ao DJE\\nRelação: 0399/2015 Teor do ato: Ciência da juntada de carta precatória negativa. Advogados(s): Moira Regina de Toledo Alkessuani (OAB 185807/SP)'},\n",
       " {'data_movimentacao': '10/12/2015',\n",
       "  'descricao': 'Ato ordinatório\\nCiência da juntada de carta precatória negativa.'},\n",
       " {'data_movimentacao': '04/11/2015',\n",
       "  'descricao': 'Autos no Prazo\\nPrazo 03.02.16.\\nVencimento: 03/02/2016'},\n",
       " {'data_movimentacao': '18/09/2015',\n",
       "  'descricao': 'Certidão de Publicação Expedida\\nRelação :0274/2015 Data da Disponibilização: 18/09/2015 Data da Publicação: 21/09/2015 Número do Diário: Página:'},\n",
       " {'data_movimentacao': '17/09/2015',\n",
       "  'descricao': 'Remetido ao DJE\\nRelação: 0274/2015 Teor do ato: Ao autor, carta precatória disponível para retirada em cartório ou impressão via internet. Advogados(s): Moira Regina de Toledo Alkessuani (OAB 185807/SP)'},\n",
       " {'data_movimentacao': '16/09/2015',\n",
       "  'descricao': 'Ato ordinatório\\nAo autor, carta precatória disponível para retirada em cartório ou impressão via internet.'},\n",
       " {'data_movimentacao': '16/09/2015',\n",
       "  'descricao': 'Carta Precatória Expedida\\nCarta Precatória - Citação, Penhora e Avaliação -Título Executivo Extrajudicial - Lei 11.382-2006 - Cível'},\n",
       " {'data_movimentacao': '14/09/2015',\n",
       "  'descricao': 'Conclusos para Decisão\\ndigitação para assinaura'},\n",
       " {'data_movimentacao': '11/09/2015',\n",
       "  'descricao': 'Carta Precatória Expedida\\npara conferência'},\n",
       " {'data_movimentacao': '26/08/2015',\n",
       "  'descricao': 'Certidão de Publicação Expedida\\nRelação :0245/2015 Data da Disponibilização: 26/08/2015 Data da Publicação: 27/08/2015 Número do Diário: 1954 Página:'},\n",
       " {'data_movimentacao': '24/08/2015',\n",
       "  'descricao': 'Remetido ao DJE\\nRelação: 0245/2015 Teor do ato: Vistos. Ante a certidão supra, expeça-se carta precatória à Comarca de Campo Limpo Paulista para tentativa de citação dos executados. Intime-se. Advogados(s): Moira Regina de Toledo Alkessuani (OAB 185807/SP)'},\n",
       " {'data_movimentacao': '21/08/2015',\n",
       "  'descricao': 'Decisão\\nVistos. Ante a certidão supra, expeça-se carta precatória à Comarca de Campo Limpo Paulista para tentativa de citação dos executados. Intime-se.'},\n",
       " {'data_movimentacao': '20/08/2015',\n",
       "  'descricao': 'Conclusos para Decisão\\n21/08'},\n",
       " {'data_movimentacao': '24/06/2015',\n",
       "  'descricao': 'Autos no Prazo\\nprazo 24/7\\nVencimento: 27/07/2015'},\n",
       " {'data_movimentacao': '24/06/2015',\n",
       "  'descricao': 'Mandado Expedido\\nMandado nº: 100.2015/055436-1 Situação: Aguardando distribuição em 29/06/2015 Local: Cartório da 1ª Vara Cível'},\n",
       " {'data_movimentacao': '23/06/2015',\n",
       "  'descricao': 'Serventuário\\nconferir mandado 23/6'},\n",
       " {'data_movimentacao': '16/03/2015',\n",
       "  'descricao': 'Decisão\\nVistos. Fls. 78: Proceda-se à citação dos executados. Desentranhe-se e adite-se o mandado, conforme já deferido a fls. 73. Intime(m)-se.'},\n",
       " {'data_movimentacao': '10/03/2015', 'descricao': 'Conclusos para Despacho'},\n",
       " {'data_movimentacao': '02/03/2015',\n",
       "  'descricao': 'Conclusos para Decisão\\n03/03'},\n",
       " {'data_movimentacao': '09/02/2015',\n",
       "  'descricao': 'Certidão de Publicação Expedida\\nRelação :0371/2014 Data da Disponibilização: 09/02/2015 Data da Publicação: 10/02/2015 Número do Diário: 1823 Página:'},\n",
       " {'data_movimentacao': '09/12/2014',\n",
       "  'descricao': 'Remetido ao DJE\\nRelação: 0371/2014 Teor do ato: Providencie o exequente o complemento das custas de diligência do Oficial de Justiça eis que se trata de execução de título extrajudicial. Advogados(s): Moira Regina de Toledo Alkessuani (OAB 185807/SP)'},\n",
       " {'data_movimentacao': '05/12/2014',\n",
       "  'descricao': 'Ato ordinatório\\nProvidencie o exequente o complemento das custas de diligência do Oficial de Justiça eis que se trata de execução de título extrajudicial.'},\n",
       " {'data_movimentacao': '06/11/2014',\n",
       "  'descricao': 'Certidão de Publicação Expedida\\nRelação :0275/2014 Data da Disponibilização: 06/11/2014 Data da Publicação: 07/11/2014 Número do Diário: 1770 Página: 229 e ss.'},\n",
       " {'data_movimentacao': '02/10/2014',\n",
       "  'descricao': 'Remetido ao DJE\\nRelação: 0275/2014 Teor do ato: Vistos. Adite-se na forma requerida. Ficam deferidas ao oficial de justiça as prerrogativas do art. 172, §2º, do CPC. Intimem-se. Advogados(s): Moira Regina de Toledo Alkessuani (OAB 185807/SP)'},\n",
       " {'data_movimentacao': '01/10/2014',\n",
       "  'descricao': 'Decisão\\nVistos. Adite-se na forma requerida. Ficam deferidas ao oficial de justiça as prerrogativas do art. 172, §2º, do CPC. Intimem-se.'},\n",
       " {'data_movimentacao': '19/08/2014',\n",
       "  'descricao': 'Petição Juntada\\nJ - 25/06'},\n",
       " {'data_movimentacao': '21/07/2014',\n",
       "  'descricao': 'Expedição de documento\\nDIGI. MANDADO - 25/06/2014'},\n",
       " {'data_movimentacao': '17/07/2014',\n",
       "  'descricao': 'Petição Juntada\\njuntada 21/7'},\n",
       " {'data_movimentacao': '25/06/2014',\n",
       "  'descricao': 'Decisão\\nVistos. Por primeiro, tente-se citação dos executados nos endereços constantes de fls.66. Intimem-se.'},\n",
       " {'data_movimentacao': '18/06/2014',\n",
       "  'descricao': 'Conclusos para Decisão\\n18/06'},\n",
       " {'data_movimentacao': '19/02/2014',\n",
       "  'descricao': 'Autos no Prazo\\nPrazo 10/3\\nVencimento: 21/03/2014'},\n",
       " {'data_movimentacao': '11/02/2014',\n",
       "  'descricao': 'Autos no Prazo\\nPrazo 10/3\\nVencimento: 13/03/2014'},\n",
       " {'data_movimentacao': '11/02/2014',\n",
       "  'descricao': 'Certidão de Publicação Expedida\\nRelação :0031/2014 Data da Disponibilização: 11/02/2014 Data da Publicação: 12/02/2014 Número do Diário: 1590 Página:'},\n",
       " {'data_movimentacao': '05/02/2014',\n",
       "  'descricao': 'Remetido ao DJE\\nRelação: 0031/2014 Teor do ato: Certifico e dou fé que as Declarações de Imposto de Renda requisitadas junto ao Sistema Infojud, encontram-se em pasta própria Advogados(s): Moira Regina de Toledo Alkessuani (OAB 185807/SP)'},\n",
       " {'data_movimentacao': '04/02/2014',\n",
       "  'descricao': 'Decisão\\nVistos. Fls. 54/55: Defiro, proceda-se à busca requerida e custeada via INFOJUD, cientificando-se as partes, a seguir, do resultado obtido (positivo para consulta em cartório ou negativo).'},\n",
       " {'data_movimentacao': '04/02/2014',\n",
       "  'descricao': 'Certidão de Cartório Expedida\\nCertifico e dou fé que as Declarações de Imposto de Renda requisitadas junto ao Sistema Infojud, encontram-se em pasta própria'},\n",
       " {'data_movimentacao': '03/02/2014',\n",
       "  'descricao': 'Conclusos para Decisão\\ncls 03/02'},\n",
       " {'data_movimentacao': '06/12/2013',\n",
       "  'descricao': 'Petição e Documento(s) Juntado\\nJuntada 10/12'},\n",
       " {'data_movimentacao': '29/11/2013',\n",
       "  'descricao': 'Certidão de Publicação Expedida\\nRelação :0279/2013 Data da Disponibilização: 29/11/2013 Data da Publicação: 02/12/2013 Número do Diário: 1550 Página:'},\n",
       " {'data_movimentacao': '25/11/2013',\n",
       "  'descricao': 'Remetido ao DJE\\nRelação: 0279/2013 Teor do ato: Vistos. Providencie o exequente, planilha de débito atualizada e pormenorizada, bem como os custos do serviço de impressão de documentos (Provimento CSM 1864/2011), conforme a tabela constante do Comunicado CSM 170/2011, uma vez que foram requeridas cópias das declarações dos três últimos exercícios e juntadas custas suficientes para a realização de apenas duas diligências. Após, tornem conclusos. Intimem-se. Advogados(s): Moira Regina de Toledo Alkessuani (OAB 185807/SP)'},\n",
       " {'data_movimentacao': '25/11/2013',\n",
       "  'descricao': 'Decisão\\nVistos. Providencie o exequente, planilha de débito atualizada e pormenorizada, bem como os custos do serviço de impressão de documentos (Provimento CSM 1864/2011), conforme a tabela constante do Comunicado CSM 170/2011, uma vez que foram requeridas cópias das declarações dos três últimos exercícios e juntadas custas suficientes para a realização de apenas duas diligências. Após, tornem conclusos. Intimem-se.'},\n",
       " {'data_movimentacao': '22/11/2013',\n",
       "  'descricao': 'Conclusos para Decisão\\nEm 25/11/2013'},\n",
       " {'data_movimentacao': '28/09/2013',\n",
       "  'descricao': 'Suspensão do Prazo\\nPrazo referente à movimentação foi alterado para 25/09/2013 devido à alteração da tabela de feriados'},\n",
       " {'data_movimentacao': '24/07/2013',\n",
       "  'descricao': 'Petição e Documento(s) Juntado\\nJuntada 26/07'},\n",
       " {'data_movimentacao': '05/07/2013',\n",
       "  'descricao': 'Autos no Prazo\\n04/09\\nVencimento: 25/09/2013'},\n",
       " {'data_movimentacao': '05/07/2013',\n",
       "  'descricao': 'Certidão de Publicação Expedida\\nRelação :0160/2013 Data da Disponibilização: 05/07/2013 Data da Publicação: 08/07/2013 Número do Diário: Página:'},\n",
       " {'data_movimentacao': '04/07/2013',\n",
       "  'descricao': 'Remetido ao DJE\\nRelação: 0160/2013 Teor do ato: Vistos. A ordem de bloqueio de ativos financeiros não frutificou, conforme se vê do detalhamento que segue. Requeira a parte credora em termos de prosseguimento, indicando bens da parte devedora passíveis de constrição. Segue as informações do Infojud. Nada vindo em trinta dias, aguarde-se provocação eficaz no arquivo. Intimem-se. Advogados(s): Moira Regina de Toledo Alkessuani (OAB 185807/SP)'},\n",
       " {'data_movimentacao': '28/06/2013',\n",
       "  'descricao': 'Decisão\\nVistos. A ordem de bloqueio de ativos financeiros não frutificou, conforme se vê do detalhamento que segue. Requeira a parte credora em termos de prosseguimento, indicando bens da parte devedora passíveis de constrição. Segue as informações do Infojud. Nada vindo em trinta dias, aguarde-se provocação eficaz no arquivo. Intimem-se.'},\n",
       " {'data_movimentacao': '03/06/2013',\n",
       "  'descricao': 'Conclusos para Decisão\\nCls. 03/06'},\n",
       " {'data_movimentacao': '18/04/2013',\n",
       "  'descricao': 'Petição Juntada\\nJuntada 19/04'},\n",
       " {'data_movimentacao': '25/02/2013',\n",
       "  'descricao': 'Autos no Prazo\\nPrazo 25.03.13.\\nVencimento: 25/03/2013'},\n",
       " {'data_movimentacao': '25/02/2013',\n",
       "  'descricao': 'Certidão de Publicação Expedida\\nRelação :0035/2013 Data da Disponibilização: 25/02/2013 Data da Publicação: 26/02/2013 Número do Diário: Página:'},\n",
       " {'data_movimentacao': '21/02/2013',\n",
       "  'descricao': 'Remetido ao DJE\\nRelação: 0035/2013 Teor do ato: Ciência da juntada da certidão negativa do sr. Oficial de Justiça. Advogados(s): Moira Regina de Toledo Alkessuani (OAB 185807/SP)'},\n",
       " {'data_movimentacao': '19/02/2013',\n",
       "  'descricao': 'Ato ordinatório\\nCiência da juntada da certidão negativa do sr. Oficial de Justiça.'},\n",
       " {'data_movimentacao': '15/02/2013',\n",
       "  'descricao': 'Petição Juntada\\nJUNTADA 18/2'},\n",
       " {'data_movimentacao': '31/01/2013',\n",
       "  'descricao': 'Autos no Prazo\\naguardando devolução do mandado\\nVencimento: 04/03/2013'},\n",
       " {'data_movimentacao': '12/11/2012',\n",
       "  'descricao': 'Mandado de Citação Expedido\\naguardando conferência.'},\n",
       " {'data_movimentacao': '08/11/2012', 'descricao': 'Serventuário'},\n",
       " {'data_movimentacao': '04/11/2012',\n",
       "  'descricao': 'Mudança de Classe Processual'},\n",
       " {'data_movimentacao': '05/10/2012',\n",
       "  'descricao': 'Aguardando Conferência\\nAguardando Conferência'},\n",
       " {'data_movimentacao': '05/06/2012',\n",
       "  'descricao': 'Aguardando Digitação\\nAguardando Digitação mandado.'},\n",
       " {'data_movimentacao': '05/06/2012',\n",
       "  'descricao': 'Data da Publicação SIDAP\\nFls.22 ? Defiro. Desentranhe-se e adite-se o mandado para integral cumprimento. Int.'},\n",
       " {'data_movimentacao': '04/06/2012',\n",
       "  'descricao': 'Despacho Proferido\\nFls.22 ? Defiro. Desentranhe-se e adite-se o mandado para integral cumprimento. Int.'},\n",
       " {'data_movimentacao': '01/06/2012',\n",
       "  'descricao': 'Conclusos\\nConclusos 01/06'},\n",
       " {'data_movimentacao': '30/05/2012',\n",
       "  'descricao': 'Aguardando Juntada\\nAguardando Juntada 31/05'},\n",
       " {'data_movimentacao': '15/05/2012', 'descricao': 'Aguardando Prazo\\n05/06'},\n",
       " {'data_movimentacao': '15/05/2012',\n",
       "  'descricao': 'Data da Publicação SIDAP\\nVista dos autos à exeqüente para manifestar-se, em 05 dias, sobre o resultado negativo do mandado de fls. 18/19. Int.'},\n",
       " {'data_movimentacao': '15/05/2012',\n",
       "  'descricao': 'Despacho Proferido\\nVista dos autos à exeqüente para manifestar-se, em 05 dias, sobre o resultado negativo do mandado de fls. 18/19. Int.'},\n",
       " {'data_movimentacao': '04/05/2012',\n",
       "  'descricao': 'Aguardando Juntada\\nAguardando Juntada/de mandado em 07/05.'},\n",
       " {'data_movimentacao': '15/03/2012',\n",
       "  'descricao': 'Aguardando Prazo\\nAguardando Prazo 14/04'},\n",
       " {'data_movimentacao': '13/03/2012',\n",
       "  'descricao': 'Aguardando Providências\\nZonear - 13.03'},\n",
       " {'data_movimentacao': '09/03/2012',\n",
       "  'descricao': 'Recebimento de Carga\\nRecebimento de Carga sob nº 920038'},\n",
       " {'data_movimentacao': '08/03/2012',\n",
       "  'descricao': 'Carga à Vara Interna\\nCarga à Vara Interna sob nº 920038 - Local Origem: 630-Distribuidor(Fórum Central Cível João Mendes Júnior) Local Destino: 571-1ª. Vara Cível(Fórum Central Cível João Mendes Júnior) Data de Envio: 08/03/2012 Data de Recebimento: 09/03/2012 Previsão de Retorno: Sem prev. retorno Vol.: Todos'},\n",
       " {'data_movimentacao': '08/03/2012',\n",
       "  'descricao': 'Processo Distribuído\\nProcesso Distribuído por Sorteio p/ 1ª. Vara Cível'}]"
      ]
     },
     "execution_count": 88,
     "metadata": {},
     "output_type": "execute_result"
    }
   ],
   "source": [
    "mov = esaj.page.processo.registro.Movimentacao(driver=driver)\n",
    "mov.get_table()"
   ]
  },
  {
   "cell_type": "code",
   "execution_count": null,
   "metadata": {
    "tags": [
     "hide_code"
    ]
   },
   "outputs": [],
   "source": [
    "# class Movimentacao(PageElement):\n",
    "#     \"\"\"\n",
    "#     Representa a Sessão que contem as Partes do Processo.\n",
    "#     Deverá servir para processos de Primeiro e Segundo Graus\n",
    "#     Por ora só funciona para processos de 1º grau!\n",
    "#     \"\"\"\n",
    "\n",
    "#     # Tabela\n",
    "#     tabela_linhas = (By.XPATH, '//tbody[@id=\"tabelaTodasMovimentacoes\"]//tr')\n",
    "#     row_data_mov = (By.XPATH, './/td[@class=\"dataMovimentacao\"]')\n",
    "#     row_desc_mov = (By.XPATH, './/td[@class=\"descricaoMovimentacao\"]')\n",
    "\n",
    "#     # Ver Mais\n",
    "#     ver_mais_loc = (\n",
    "#         By.XPATH,\n",
    "#         '//*[@id=\"divLinksTituloBlocoMovimentacoes\"]',\n",
    "#     )\n",
    "\n",
    "#     ver_mais = (\n",
    "#         By.XPATH,\n",
    "#         '//*[@id=\"linkmovimentacoes\"]//i',\n",
    "#     )\n",
    "\n",
    "#     def get_table(self) -> None:\n",
    "#         \"\"\"\n",
    "#         Define o \"Nº do Documento da Delegacia\".\n",
    "#         \"\"\"\n",
    "\n",
    "#         self.clica_ver_mais()\n",
    "\n",
    "#         rows = self.find_all(locator=self.tabela_linhas)\n",
    "#         dd = []\n",
    "#         for row in rows:\n",
    "#             # print(row.text)\n",
    "#             data_xpath = self.row_data_mov + (row,)\n",
    "#             data = self.get_text(locator=data_xpath, wait=3)\n",
    "#             # print(data)\n",
    "\n",
    "#             desc_xpath = self.row_desc_mov + (row,)\n",
    "#             desc = self.get_text(locator=desc_xpath, wait=3)\n",
    "#             # print(desc)\n",
    "\n",
    "#             dd.append({'data_movimentacao': data, 'descricao': desc})\n",
    "\n",
    "#         self.clica_ver_menos()\n",
    "#         return dd\n",
    "\n",
    "#     def clica_ver_mais(self):\n",
    "#         # Vai até o botão do Ver Mais\n",
    "#         self.script(\n",
    "#             \"arguments[0].scrollIntoView();\",\n",
    "#             self.find(locator=self.ver_mais_loc),\n",
    "#         )\n",
    "#         # Sobe um pouco\n",
    "#         self.driver.execute_script(\"window.scrollBy(0, -250);\")\n",
    "\n",
    "#         if (\n",
    "#             self.attribute(locator=self.ver_mais, attribute='class')\n",
    "#             == 'unj-link-collapse__icon glyph glyph-chevron-down'\n",
    "#         ):\n",
    "\n",
    "#             # Clica no Botão Ver Mais\n",
    "#             self.click(locator=self.ver_mais)\n",
    "\n",
    "#             # Vai até o botão do Ver Mais\n",
    "#             self.script(\n",
    "#                 \"arguments[0].scrollIntoView();\",\n",
    "#                 self.find(locator=self.ver_mais_loc),\n",
    "#             )\n",
    "#             # Sobe um pouco\n",
    "#             self.driver.execute_script(\"window.scrollBy(0, -250);\")\n",
    "\n",
    "#     def clica_ver_menos(self):\n",
    "#         # Vai até o botão do Ver Mais\n",
    "#         self.script(\n",
    "#             \"arguments[0].scrollIntoView();\",\n",
    "#             self.find(locator=self.ver_mais_loc),\n",
    "#         )\n",
    "#         # Sobe um pouco\n",
    "#         self.driver.execute_script(\"window.scrollBy(0, -250);\")\n",
    "\n",
    "#         if (\n",
    "#             self.attribute(locator=self.ver_mais, attribute='class')\n",
    "#             != 'unj-link-collapse__icon glyph glyph-chevron-down'\n",
    "#         ):\n",
    "#             self.click(locator=self.ver_mais)\n",
    "\n",
    "#             # Vai até o botão do Ver Mais\n",
    "#             self.script(\n",
    "#                 \"arguments[0].scrollIntoView();\",\n",
    "#                 self.find(locator=self.ver_mais_loc),\n",
    "#             )\n",
    "#             # Sobe um pouco\n",
    "#             self.driver.execute_script(\"window.scrollBy(0, -250);\")"
   ]
  },
  {
   "cell_type": "code",
   "execution_count": null,
   "metadata": {
    "tags": [
     "hide_code"
    ]
   },
   "outputs": [],
   "source": [
    "# mov = Movimentacao(driver=driver)\n",
    "# mov.clica_ver_mais()"
   ]
  },
  {
   "cell_type": "code",
   "execution_count": null,
   "metadata": {
    "tags": [
     "hide_code"
    ]
   },
   "outputs": [],
   "source": [
    "# rows = mov.find_all(locator=mov.tabela_linhas)\n",
    "# for row in rows:\n",
    "#     print(row)\n",
    "#     # aaa = (By.XPATH, './/td[@dataMovimentacao]', row)\n",
    "#     #aaa = mov.row_data_mov + (row,)\n",
    "#     # print(aaa)\n",
    "#     aaabbb = mov.find(locator=aaa, wait=10).text\n",
    "#     print(aaabbb)\n",
    "#     # print(row.find_element(by=By.XPATH, value='.//td[@class=\"dataMovimentacao\"]').text)"
   ]
  },
  {
   "cell_type": "code",
   "execution_count": null,
   "metadata": {
    "tags": [
     "hide_code"
    ]
   },
   "outputs": [],
   "source": [
    "# mov.clica_ver_menos()"
   ]
  },
  {
   "cell_type": "code",
   "execution_count": null,
   "metadata": {
    "tags": [
     "hide_code"
    ]
   },
   "outputs": [],
   "source": [
    "# aaaa = driver.find_element(*mov.ver_mais_loc)"
   ]
  },
  {
   "cell_type": "code",
   "execution_count": null,
   "metadata": {
    "tags": [
     "hide_code"
    ]
   },
   "outputs": [],
   "source": [
    "# driver.execute_script(\"arguments[0].scrollIntoView();\")"
   ]
  },
  {
   "cell_type": "markdown",
   "metadata": {},
   "source": [
    "<br>\n",
    "\n",
    "Por fim, fecho o _driver_/navegador.\n"
   ]
  },
  {
   "cell_type": "code",
   "execution_count": 89,
   "metadata": {},
   "outputs": [],
   "source": [
    "# driver.close()\n",
    "driver.quit()"
   ]
  }
 ],
 "metadata": {
  "kernelspec": {
   "display_name": "pyesaj-9t7CDmVm-py3.12",
   "language": "python",
   "name": "python3"
  },
  "language_info": {
   "codemirror_mode": {
    "name": "ipython",
    "version": 3
   },
   "file_extension": ".py",
   "mimetype": "text/x-python",
   "name": "python",
   "nbconvert_exporter": "python",
   "pygments_lexer": "ipython3",
   "version": "3.12.3"
  }
 },
 "nbformat": 4,
 "nbformat_minor": 2
}
