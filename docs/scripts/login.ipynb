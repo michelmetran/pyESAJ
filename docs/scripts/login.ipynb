{
 "cells": [
  {
   "cell_type": "markdown",
   "metadata": {},
   "source": [
    "# _Login_\n",
    "\n",
    "_Script_ para fazer _login_ no e-SAJ.\n",
    "\n",
    "Caso queira testar o _notebook_, basta clicar sob o _badge_ abaixo. Irá abrir o arquivo [login.ipynb](https://colab.research.google.com/github/michelmetran/pyESAJ/blob/main/docs/scripts/login.ipynb) no [_Google Colab_](https://colab.research.google.com/).\n",
    "\n",
    "[![Open In Colab](https://colab.research.google.com/assets/colab-badge.svg)](https://colab.research.google.com/github/michelmetran/pyESAJ/blob/main/docs/scripts/login.ipynb)\n"
   ]
  },
  {
   "cell_type": "code",
   "execution_count": null,
   "metadata": {
    "tags": [
     "hide_code"
    ]
   },
   "outputs": [],
   "source": [
    "# Install Chromium, its driver, and selenium\n",
    "!apt-get update\n",
    "!apt-get install chromium-chromedriver"
   ]
  },
  {
   "cell_type": "code",
   "execution_count": 2,
   "metadata": {},
   "outputs": [],
   "source": [
    "import os\n",
    "from urllib.parse import urlparse\n",
    "\n",
    "import pandas as pd\n",
    "from dotenv import load_dotenv\n",
    "\n",
    "import pyesaj.scraper as esaj"
   ]
  },
  {
   "cell_type": "code",
   "execution_count": 3,
   "metadata": {
    "tags": [
     "hide_code"
    ]
   },
   "outputs": [],
   "source": [
    "from selenium.webdriver.common.by import By\n",
    "from selenium.webdriver.remote.webelement import WebElement"
   ]
  },
  {
   "cell_type": "code",
   "execution_count": null,
   "metadata": {
    "tags": [
     "hide_code"
    ]
   },
   "outputs": [],
   "source": [
    "# from pyesaj import page, webdriver\n",
    "# from pyesaj.page import intim\n",
    "# from pyesaj.params import intimacoes_output\n",
    "# from pyesaj.pom.page_object import Page, PageElement"
   ]
  },
  {
   "cell_type": "markdown",
   "metadata": {},
   "source": [
    "<br>\n",
    "\n",
    "---\n",
    "\n",
    "## Credenciais\n"
   ]
  },
  {
   "cell_type": "code",
   "execution_count": null,
   "metadata": {},
   "outputs": [],
   "source": [
    "load_dotenv()\n",
    "\n",
    "USERNAME = os.getenv('USERNAME_TJSP')\n",
    "PASSWORD = os.getenv('PASSWORD_TJSP')"
   ]
  },
  {
   "cell_type": "markdown",
   "metadata": {},
   "source": [
    "<br>\n",
    "\n",
    "---\n",
    "\n",
    "## Driver\n"
   ]
  },
  {
   "cell_type": "code",
   "execution_count": null,
   "metadata": {},
   "outputs": [],
   "source": [
    "driver = esaj.webdriver.Chrome(headless=False, modo_colab=True)"
   ]
  },
  {
   "cell_type": "markdown",
   "metadata": {
    "tags": [
     "hide_code"
    ]
   },
   "source": [
    "<br>\n",
    "\n",
    "---\n",
    "\n",
    "**While**\n"
   ]
  },
  {
   "cell_type": "code",
   "execution_count": null,
   "metadata": {
    "tags": [
     "hide_code"
    ]
   },
   "outputs": [],
   "source": [
    "# driver.get('https://esaj.tjsp.jus.br/esaj/portal.do?servico=740000')\n",
    "log = esaj.page.Login(driver=driver)\n",
    "# driver.find_element(*log.identificar_se).click()\n",
    "# user = esaj.page.Username(driver=driver)\n",
    "# user.input_username"
   ]
  },
  {
   "cell_type": "code",
   "execution_count": null,
   "metadata": {
    "tags": [
     "hide_code"
    ]
   },
   "outputs": [],
   "source": [
    "# class SeleniumObject:\n",
    "#     \"\"\"\n",
    "#     Guarda os métodos do Selenium\n",
    "#     \"\"\"\n",
    "\n",
    "#     def __init__(self, driver) -> None:\n",
    "#         self.driver = driver\n",
    "\n",
    "#     def find(self, locator: tuple, wait: int = 60) -> WebElement:\n",
    "#         \"\"\"\n",
    "#         Encontra algum\n",
    "#         \"\"\"\n",
    "#         if len(locator) == 2:\n",
    "#             start_point = self.driver\n",
    "\n",
    "#         elif len(locator) == 3:\n",
    "#             start_point = locator[2]\n",
    "#             locator = locator[0:2]\n",
    "\n",
    "#         else:\n",
    "#             raise ValueError('Erro no input da tupla')\n",
    "\n",
    "#         try:\n",
    "#             if wait != 0:\n",
    "#                 elem = WebDriverWait(start_point, wait).until(\n",
    "#                     EC.presence_of_element_located((locator))\n",
    "#                 )\n",
    "#             else:\n",
    "#                 # Asterisco serve para desempacotar os parâmetros de input\n",
    "#                 elem = start_point.find_element(*locator)\n",
    "\n",
    "#         except Exception as e:\n",
    "#             logging.error(\n",
    "#                 f'e-SAJ parece não ter carregado corretamente os elemento!. Veja erro:\\n{e}'\n",
    "#             )\n",
    "\n",
    "#         return elem\n",
    "\n",
    "#     def set(self, locator, value) -> None:\n",
    "#         \"\"\"\n",
    "#         Define algum campo para preenchimento\n",
    "#         \"\"\"\n",
    "#         self.find(locator).clear()\n",
    "#         self.find(locator).send_keys(value)\n",
    "\n",
    "#         WebDriverWait(driver, 5).until(\n",
    "#             EC.text_to_be_present_in_element_value(locator, text_=value)\n",
    "#         )\n",
    "\n",
    "\n",
    "#     def get_text(self, locator, *args, **kwargs) -> str:\n",
    "#         \"\"\"\n",
    "#         Pego text\n",
    "#         \"\"\"\n",
    "#         wait = kwargs.get('wait', 60)\n",
    "#         try:\n",
    "#             return self.find(locator, wait).text.strip()\n",
    "\n",
    "#         except:\n",
    "#             return None"
   ]
  },
  {
   "cell_type": "code",
   "execution_count": null,
   "metadata": {
    "tags": [
     "hide_code"
    ]
   },
   "outputs": [],
   "source": [
    "# ddd = SeleniumObject(driver=driver)\n",
    "# ddd.set(locator=user.input_username, value=USERNAME)"
   ]
  },
  {
   "cell_type": "code",
   "execution_count": null,
   "metadata": {
    "tags": [
     "hide_code"
    ]
   },
   "outputs": [],
   "source": [
    "# ddd.get_text(locator=user.input_username)"
   ]
  },
  {
   "cell_type": "code",
   "execution_count": null,
   "metadata": {
    "tags": [
     "hide_code"
    ]
   },
   "outputs": [],
   "source": [
    "# # text_to_be_present_in_element_value() is the expectatio\n",
    "# WebDriverWait(driver, 10).until(\n",
    "#     EC.text_to_be_present_in_element_value(\n",
    "#         locator=By.XPATH('//*[@id=\"collapse0\"]/div/div/ul/li/span[2]'),\n",
    "#         text_='[\\d].*',\n",
    "#     )\n",
    "# )"
   ]
  },
  {
   "cell_type": "code",
   "execution_count": null,
   "metadata": {
    "tags": [
     "hide_code"
    ]
   },
   "outputs": [],
   "source": [
    "# user.input_username"
   ]
  },
  {
   "cell_type": "markdown",
   "metadata": {
    "tags": [
     "hide_code"
    ]
   },
   "source": [
    "<br>\n",
    "\n",
    "---\n",
    "\n",
    "**Load**\n"
   ]
  },
  {
   "cell_type": "code",
   "execution_count": null,
   "metadata": {
    "tags": [
     "hide_code"
    ]
   },
   "outputs": [],
   "source": [
    "# https://stackoverflow.com/questions/26566799/wait-until-page-is-loaded-with-selenium-webdriver-for-python"
   ]
  },
  {
   "cell_type": "code",
   "execution_count": null,
   "metadata": {
    "tags": [
     "hide_code"
    ]
   },
   "outputs": [],
   "source": [
    "def page_has_loaded(self):\n",
    "    # self.log.info(\"Checking if {} page is loaded.\".format(self.driver.current_url))\n",
    "    page_state = self.driver.execute_script('return document.readyState;')\n",
    "    return page_state == 'complete'\n",
    "\n",
    "\n",
    "def page_has_loaded(driver):\n",
    "    page_state = driver.execute_script('return document.readyState;')\n",
    "    return page_state == 'complete'"
   ]
  },
  {
   "cell_type": "code",
   "execution_count": null,
   "metadata": {
    "tags": [
     "hide_code"
    ]
   },
   "outputs": [],
   "source": [
    "# driver.get('https://www.uol.com.br/')\n",
    "# driver.get(\n",
    "#     'https://stackoverflow.com/questions/26566799/wait-until-page-is-loaded-with-selenium-webdriver-for-python')\n",
    "# page_has_loaded(driver=driver)"
   ]
  },
  {
   "cell_type": "markdown",
   "metadata": {},
   "source": [
    "<br>\n",
    "\n",
    "---\n",
    "\n",
    "## _Login_\n",
    "\n",
    "Inicialmente instanciamos a página de *login*.\n"
   ]
  },
  {
   "cell_type": "code",
   "execution_count": null,
   "metadata": {},
   "outputs": [],
   "source": [
    "log = esaj.page.Login(driver=driver)"
   ]
  },
  {
   "cell_type": "markdown",
   "metadata": {},
   "source": [
    "<br>\n",
    "\n",
    "Até 24.03.2025 era utilizado o código abaixo para fazer o _login_ no e-SAJ.\n"
   ]
  },
  {
   "cell_type": "code",
   "execution_count": null,
   "metadata": {},
   "outputs": [],
   "source": [
    "# log.login(username=USERNAME, password=PASSWORD)"
   ]
  },
  {
   "cell_type": "markdown",
   "metadata": {},
   "source": [
    "<br>\n",
    "\n",
    "Em 17.03.2025 o TJSP apresentou _banner_ informando que iria mudar o sistema te autenticação e, em 24.03.2025 o TJSP implantou a autenticação de duplo fator, dificultando a automatização.\n",
    "\n",
    "<br>\n",
    "\n",
    "Na primeira etapa apenas entramos com os dados básicos: _login_ e senha.\n"
   ]
  },
  {
   "cell_type": "code",
   "execution_count": null,
   "metadata": {},
   "outputs": [],
   "source": [
    "log.login_1_etapa(username=USERNAME, password=PASSWORD)"
   ]
  },
  {
   "cell_type": "markdown",
   "metadata": {},
   "source": [
    "<br>\n",
    "\n",
    "Ao executar a primeira etapa, será disparado um e-mail com um código numérico, de 6 dígitos, para concluir a autenticação.\n"
   ]
  },
  {
   "cell_type": "code",
   "execution_count": null,
   "metadata": {},
   "outputs": [],
   "source": [
    "log.login_2_etapa(token=583192)"
   ]
  },
  {
   "cell_type": "code",
   "execution_count": null,
   "metadata": {
    "tags": [
     "hide_code"
    ]
   },
   "outputs": [],
   "source": [
    "# elem_token = driver.find_element(\n",
    "#     by=By.XPATH,\n",
    "#     value='//input[@id=\"tokenInformado\"]'\n",
    "# )\n",
    "# elem_token.send_keys('420035')"
   ]
  },
  {
   "cell_type": "code",
   "execution_count": null,
   "metadata": {
    "tags": [
     "hide_code"
    ]
   },
   "outputs": [],
   "source": [
    "# driver.find_element(\n",
    "#     by=By.XPATH,\n",
    "#     value='//button[@id=\"btnEnviarToken\"]'\n",
    "# ).click()"
   ]
  },
  {
   "cell_type": "code",
   "execution_count": null,
   "metadata": {
    "tags": [
     "hide_code"
    ]
   },
   "outputs": [],
   "source": [
    "# driver.find_element(\n",
    "#     by=By.XPATH,\n",
    "#     value='//div[@id=\"avisoTokenInvalido\"]'\n",
    "# ).text\n",
    "#\n",
    "# # 'O código informado está inválido. Verifique sua caixa de e-mail para conferir o código que foi enviado ou tente reenviar o código novamente.'"
   ]
  },
  {
   "cell_type": "code",
   "execution_count": null,
   "metadata": {
    "tags": [
     "hide_code"
    ]
   },
   "outputs": [],
   "source": [
    "# driver.find_element(by=By.XPATH, value='//table[@class=\"tabelaMensagem\"]//td[@id=\"mensagemRetorno\"]').text# msg = driver.find_element(by=By.XPATH, value='//table[@class=\"tabelaMensagem\"]//td[@id=\"mensagemRetorno\"]').text\n",
    "\n",
    "# if msg == 'Usuário e/ou senha inválidos':\n",
    "#     print('Deu Ruim')"
   ]
  },
  {
   "cell_type": "markdown",
   "metadata": {
    "tags": [
     "hide_code"
    ]
   },
   "source": [
    "<br>\n",
    "\n",
    "---\n",
    "\n",
    "**URL**\n"
   ]
  },
  {
   "cell_type": "code",
   "execution_count": null,
   "metadata": {
    "tags": [
     "hide_code"
    ]
   },
   "outputs": [],
   "source": [
    "driver.current_url"
   ]
  },
  {
   "cell_type": "code",
   "execution_count": null,
   "metadata": {
    "tags": [
     "hide_code"
    ]
   },
   "outputs": [],
   "source": [
    "path = urlparse(url=driver.current_url).path\n",
    "\n",
    "if path == '/esaj/portal.do':\n",
    "    print('logou')\n",
    "\n",
    "elif path == '/sajcas/login':\n",
    "    print('Não logou')\n",
    "\n",
    "else:\n",
    "    print(path)"
   ]
  },
  {
   "cell_type": "markdown",
   "metadata": {},
   "source": [
    "<br>\n",
    "\n",
    "Por fim, fecho o _driver_/navegador.\n"
   ]
  },
  {
   "cell_type": "code",
   "execution_count": null,
   "metadata": {},
   "outputs": [],
   "source": [
    "driver.quit()"
   ]
  }
 ],
 "metadata": {
  "kernelspec": {
   "display_name": "pyesaj-9t7CDmVm-py3.12",
   "language": "python",
   "name": "python3"
  },
  "language_info": {
   "codemirror_mode": {
    "name": "ipython",
    "version": 3
   },
   "file_extension": ".py",
   "mimetype": "text/x-python",
   "name": "python",
   "nbconvert_exporter": "python",
   "pygments_lexer": "ipython3",
   "version": "3.12.3"
  }
 },
 "nbformat": 4,
 "nbformat_minor": 2
}
