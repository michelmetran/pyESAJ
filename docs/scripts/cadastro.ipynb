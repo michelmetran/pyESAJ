{
 "cells": [
  {
   "cell_type": "markdown",
   "metadata": {},
   "source": [
    "# Dados Cadastrais\n",
    "\n",
    "_Script_ para acessar os dados de cadastro do usuário logado.\n",
    "\n",
    "Caso queira testar o _notebook_, basta clicar sob o _badge_ abaixo. Irá abrir o arquivo [cadastro.ipynb](https://colab.research.google.com/github/michelmetran/pyESAJ/blob/main/docs/scripts/cadastro.ipynb) no [_Google Colab_](https://colab.research.google.com/).\n",
    "\n",
    "[![Open In Colab](https://colab.research.google.com/assets/colab-badge.svg)](https://colab.research.google.com/github/michelmetran/pyESAJ/blob/main/docs/scripts/cadastro.ipynb)\n"
   ]
  },
  {
   "cell_type": "code",
   "execution_count": null,
   "metadata": {
    "tags": [
     "hide_code"
    ]
   },
   "outputs": [],
   "source": [
    "# Install Chromium, its driver, and selenium\n",
    "!apt-get update\n",
    "!apt-get install chromium-chromedriver"
   ]
  },
  {
   "cell_type": "code",
   "execution_count": null,
   "metadata": {
    "tags": [
     "hide_code"
    ]
   },
   "outputs": [],
   "source": [
    "!pip3 install pyESAJ --upgrade\n",
    "!pip3 install python-dotenv --upgrade"
   ]
  },
  {
   "cell_type": "code",
   "execution_count": 1,
   "metadata": {},
   "outputs": [],
   "source": [
    "import os\n",
    "\n",
    "from dotenv import load_dotenv\n",
    "\n",
    "import pyesaj.scraper as esaj"
   ]
  },
  {
   "cell_type": "code",
   "execution_count": 2,
   "metadata": {
    "tags": [
     "hide_code"
    ]
   },
   "outputs": [],
   "source": [
    "# from pathlib import Path\n",
    "# import pandas as pd\n",
    "# import importlib"
   ]
  },
  {
   "cell_type": "markdown",
   "metadata": {},
   "source": [
    "<br>\n",
    "\n",
    "---\n",
    "\n",
    "## Credenciais\n",
    "\n",
    "Obtemos as credenciais de um arquivo `.env` com o seguinte conteúdo:\n",
    "\n",
    "```shell\n",
    "USERNAME_TJSP=***.***.***-**\n",
    "PASSWORD_TJSP=****************\n",
    "```\n"
   ]
  },
  {
   "cell_type": "code",
   "execution_count": 3,
   "metadata": {},
   "outputs": [],
   "source": [
    "load_dotenv()\n",
    "\n",
    "USERNAME = os.getenv('USERNAME_TJSP')\n",
    "PASSWORD = os.getenv('PASSWORD_TJSP')"
   ]
  },
  {
   "cell_type": "markdown",
   "metadata": {},
   "source": [
    "<br>\n",
    "\n",
    "---\n",
    "\n",
    "## _Driver_\n",
    "\n",
    "Instanciamos o _driver_/navegador que será usado para manejar o e-SAJ.\n"
   ]
  },
  {
   "cell_type": "code",
   "execution_count": 4,
   "metadata": {},
   "outputs": [],
   "source": [
    "# driver = esaj.webdriver.Firefox(verify_ssl=False)\n",
    "driver = esaj.webdriver.Chrome(headless=False)"
   ]
  },
  {
   "cell_type": "markdown",
   "metadata": {},
   "source": [
    "<br>\n",
    "\n",
    "---\n",
    "\n",
    "## _Login_\n",
    "\n",
    "Em 24.03.2025 o TJSP implantou a autenticação por dois fatores e, ao tentar o acesso com _login_/senha é disparado um e-mail contendo o código númerico para fazer a autenticação no sistema.\n",
    "\n",
    "A autenticação em duas etapas (ou autenticação de duplo fator) promove a segurança do sistema e dificulta que automações sejam feitas.\n"
   ]
  },
  {
   "cell_type": "code",
   "execution_count": 5,
   "metadata": {},
   "outputs": [],
   "source": [
    "log = esaj.page.Login(driver=driver)"
   ]
  },
  {
   "cell_type": "markdown",
   "metadata": {},
   "source": [
    "<br>\n",
    "\n",
    "Na primeira etapa apenas entramos com os dados básicos: _login_ e senha.\n"
   ]
  },
  {
   "cell_type": "code",
   "execution_count": 6,
   "metadata": {},
   "outputs": [],
   "source": [
    "log.login_1_etapa(username=USERNAME, password=PASSWORD)"
   ]
  },
  {
   "cell_type": "markdown",
   "metadata": {},
   "source": [
    "<br>\n",
    "\n",
    "Ao executar a primeira etapa, será disparado um e-mail com um código numérico, de 6 dígitos, para concluir a autenticação.\n"
   ]
  },
  {
   "cell_type": "code",
   "execution_count": 7,
   "metadata": {},
   "outputs": [
    {
     "name": "stdout",
     "output_type": "stream",
     "text": [
      "Olá \"Michel Metran da Silva\", você já estava logado no e-SAJ!\n"
     ]
    }
   ],
   "source": [
    "log.login_2_etapa(token=689807)"
   ]
  },
  {
   "cell_type": "markdown",
   "metadata": {},
   "source": [
    "<br>\n",
    "\n",
    "---\n",
    "\n",
    "## Cadastro\n",
    "\n",
    "A obtenção dos dados cadastrais foi pensada para acessar informções do contato do usuário e disparar algum alerta para ele, por _e-mail_...\n"
   ]
  },
  {
   "cell_type": "code",
   "execution_count": 8,
   "metadata": {},
   "outputs": [],
   "source": [
    "dados_cadastrais = esaj.page.DadosCadastrais(driver=driver)"
   ]
  },
  {
   "cell_type": "code",
   "execution_count": 13,
   "metadata": {},
   "outputs": [
    {
     "name": "stdout",
     "output_type": "stream",
     "text": [
      "<class 'pyesaj.scraper.params.perfil.Cadastro'>\n",
      "Michel Metran da Silva\n"
     ]
    }
   ],
   "source": [
    "dados = dados_cadastrais.obtem_dados()\n",
    "print(type(dados))\n",
    "print(dados.nome)"
   ]
  },
  {
   "cell_type": "markdown",
   "metadata": {},
   "source": [
    "<br>\n",
    "\n",
    "Por fim, finalizo fechando o _driver_.\n"
   ]
  },
  {
   "cell_type": "code",
   "execution_count": 14,
   "metadata": {},
   "outputs": [],
   "source": [
    "driver.quit()"
   ]
  }
 ],
 "metadata": {
  "kernelspec": {
   "display_name": "pyesaj-9t7CDmVm-py3.12",
   "language": "python",
   "name": "python3"
  },
  "language_info": {
   "codemirror_mode": {
    "name": "ipython",
    "version": 3
   },
   "file_extension": ".py",
   "mimetype": "text/x-python",
   "name": "python",
   "nbconvert_exporter": "python",
   "pygments_lexer": "ipython3",
   "version": "3.12.3"
  }
 },
 "nbformat": 4,
 "nbformat_minor": 2
}
