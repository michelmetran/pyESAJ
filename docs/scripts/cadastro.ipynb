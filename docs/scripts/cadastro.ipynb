{
 "cells": [
  {
   "cell_type": "markdown",
   "metadata": {},
   "source": [
    "# Dados Cadastrais\n",
    "\n",
    "_Script_ para acessar os dados de cadastro do usuário logado."
   ]
  },
  {
   "cell_type": "code",
   "metadata": {},
   "source": [
    "import os\n",
    "from dotenv import load_dotenv\n",
    "\n",
    "import pyesaj.scraper as esaj"
   ],
   "outputs": [],
   "execution_count": null
  },
  {
   "metadata": {
    "tags": [
     "hide_code"
    ]
   },
   "cell_type": "code",
   "source": [
    "# from pathlib import Path\n",
    "# import pandas as pd\n",
    "# import importlib"
   ],
   "outputs": [],
   "execution_count": null
  },
  {
   "cell_type": "markdown",
   "metadata": {},
   "source": [
    "<br>\n",
    "\n",
    "---\n",
    "\n",
    "## Credenciais\n",
    "\n",
    "Obtemos as credenciais de um arquivo `.env` com o seguinte conteúdo:\n",
    "\n",
    "````shell\n",
    "USERNAME_TJSP=***.***.***-**\n",
    "PASSWORD_TJSP=****************\n",
    "````\n"
   ]
  },
  {
   "cell_type": "code",
   "metadata": {},
   "source": [
    "load_dotenv()\n",
    "\n",
    "USERNAME = os.getenv('USERNAME_TJSP')\n",
    "PASSWORD = os.getenv('PASSWORD_TJSP')"
   ],
   "outputs": [],
   "execution_count": null
  },
  {
   "cell_type": "markdown",
   "metadata": {},
   "source": [
    "<br>\n",
    "\n",
    "---\n",
    "\n",
    "## *Driver*\n",
    "\n",
    "Instanciamos o _driver_/navegador que será usado para manejar o e-SAJ.\n"
   ]
  },
  {
   "cell_type": "code",
   "metadata": {},
   "source": [
    "# driver = esaj.webdriver.Firefox(verify_ssl=False)\n",
    "driver = esaj.webdriver.Chrome(headless=False)"
   ],
   "outputs": [],
   "execution_count": null
  },
  {
   "cell_type": "markdown",
   "metadata": {},
   "source": [
    "<br>\n",
    "\n",
    "---\n",
    "\n",
    "## *Login*\n",
    "\n",
    "\n",
    "Em 24.03.2025 o TJSP implantou a autenticação por dois fatores e, ao tentar o acesso com _login_/senha é disparado um e-mail contendo o código númerico para fazer a autenticação no sistema.\n",
    "\n",
    "A autenticação em duas etapas (ou autenticação de duplo fator) promove a segurança do sistema e dificulta que automações sejam feitas.\n"
   ]
  },
  {
   "cell_type": "code",
   "metadata": {},
   "source": "log = esaj.page.Login(driver=driver)",
   "outputs": [],
   "execution_count": null
  },
  {
   "metadata": {},
   "cell_type": "markdown",
   "source": [
    "<br>\n",
    "\n",
    "Na primeira etapa apenas entramos com os dados básicos: *login* e senha."
   ]
  },
  {
   "cell_type": "code",
   "metadata": {},
   "source": "log.login_1_etapa(username=USERNAME, password=PASSWORD)",
   "outputs": [],
   "execution_count": null
  },
  {
   "metadata": {},
   "cell_type": "markdown",
   "source": [
    "<br>\n",
    "\n",
    "Ao executar a primeira etapa, será disparado um e-mail com um código numérico, de 6 dígitos, para concluir a autenticação."
   ]
  },
  {
   "metadata": {},
   "cell_type": "code",
   "source": "log.login_2_etapa(token=727398)",
   "outputs": [],
   "execution_count": null
  },
  {
   "cell_type": "markdown",
   "metadata": {},
   "source": [
    "<br>\n",
    "\n",
    "---\n",
    "\n",
    "## Cadastro\n",
    "\n",
    "A obtenção dos dados cadastrais foi pensada para acessar informções do contato do usuário e disparar algum alerta para ele, por *e-mail*...\n"
   ]
  },
  {
   "cell_type": "code",
   "metadata": {},
   "source": [
    "dados_cadastrais = esaj.page.DadosCadastrais(driver=driver)"
   ],
   "outputs": [],
   "execution_count": null
  },
  {
   "cell_type": "code",
   "metadata": {},
   "source": [
    "dados_cadastrais.obtem_dados()"
   ],
   "outputs": [],
   "execution_count": null
  },
  {
   "metadata": {},
   "cell_type": "markdown",
   "source": [
    "<br>\n",
    "\n",
    "Por fim, finalizo fechando o *driver*."
   ]
  },
  {
   "cell_type": "code",
   "metadata": {},
   "source": [
    "driver.quit()"
   ],
   "outputs": [],
   "execution_count": null
  }
 ],
 "metadata": {
  "kernelspec": {
   "display_name": "pyesaj-q3uqN4oF-py3.11",
   "language": "python",
   "name": "python3"
  },
  "language_info": {
   "codemirror_mode": {
    "name": "ipython",
    "version": 3
   },
   "file_extension": ".py",
   "mimetype": "text/x-python",
   "name": "python",
   "nbconvert_exporter": "python",
   "pygments_lexer": "ipython3",
   "version": "3.11.7"
  }
 },
 "nbformat": 4,
 "nbformat_minor": 2
}
