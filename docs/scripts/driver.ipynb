{
 "cells": [
  {
   "cell_type": "markdown",
   "metadata": {},
   "source": [
    "# _Driver_ (ou Navegador)\n",
    "\n",
    "O pyESAJ foi inicialmente pensado para ser usado com o Selenium. Para isso é necessário instanciar um _driver_, ou seja, uma janela de um navegador.\n",
    "\n",
    "Fiz o pyESAJ inicialmente usando o Firefox e, com _feedback_ de usuários, adicionei o _Chrome_.\n",
    "\n",
    "Caso queira testar o _notebook_, basta clicar sob o _badge_ abaixo. Irá abrir o arquivo [driver.ipynb](https://colab.research.google.com/github/michelmetran/pyESAJ/blob/main/docs/scripts/driver.ipynb) no [_Google Colab_](https://colab.research.google.com/).\n",
    "\n",
    "[![Open In Colab](https://colab.research.google.com/assets/colab-badge.svg)](https://colab.research.google.com/github/michelmetran/pyESAJ/blob/main/docs/scripts/driver.ipynb)\n"
   ]
  },
  {
   "cell_type": "code",
   "execution_count": null,
   "metadata": {
    "tags": [
     "hide_code"
    ]
   },
   "outputs": [],
   "source": [
    "# Install Chromium, its driver, and selenium\n",
    "!apt-get update\n",
    "!apt-get install chromium-chromedriver"
   ]
  },
  {
   "cell_type": "code",
   "execution_count": null,
   "metadata": {
    "tags": [
     "hide_code"
    ]
   },
   "outputs": [],
   "source": [
    "!pip3 install pyESAJ --upgrade"
   ]
  },
  {
   "cell_type": "code",
   "execution_count": null,
   "metadata": {},
   "outputs": [],
   "source": [
    "import pyesaj.scraper as esaj"
   ]
  },
  {
   "cell_type": "markdown",
   "metadata": {},
   "source": [
    "<br>\n",
    "\n",
    "Para ambos os _drivers_ é possível usar alguns parâmetros (opcionais). São eles:\n",
    "\n",
    "1. `headless`: define se a interface do navegador irá ser mostrada ao usuário ou se ficará oculta\n",
    "2. `download_path`: define a pasta para a qual eventuais _downloads_ serão encaminhados.\n"
   ]
  },
  {
   "cell_type": "markdown",
   "metadata": {},
   "source": [
    "<br>\n",
    "\n",
    "---\n",
    "\n",
    "## Firefox\n",
    "\n",
    "O primeiro _driver_ definido foi o Firefox/_Gecko_. Nele, há a possibilidade de usar o parâmetro `verify_ssl`, que define se o _selenium_ irá usar protocolo HTTPS para baixar os binários requeridos ([Gecko](https://github.com/mozilla/geckodriver)).\n"
   ]
  },
  {
   "cell_type": "code",
   "execution_count": null,
   "metadata": {},
   "outputs": [],
   "source": [
    "driver = esaj.webdriver.Firefox(verify_ssl=False, headless=False)"
   ]
  },
  {
   "cell_type": "markdown",
   "metadata": {},
   "source": [
    "<br>\n",
    "\n",
    "Uma questão interessante é que o objeto *driver* herda todos os métodos do *driver* do Selenium. Portanto, podemos fechar o *driver*."
   ]
  },
  {
   "cell_type": "code",
   "execution_count": null,
   "metadata": {},
   "outputs": [],
   "source": [
    "driver.quit()"
   ]
  },
  {
   "cell_type": "markdown",
   "metadata": {},
   "source": [
    "<br>\n",
    "\n",
    "---\n",
    "\n",
    "## Google Chrome\n",
    "\n",
    "Especialmente o _driver_ tem uma opção a mais:\n",
    "\n",
    "4. `modo_colab`: é usado quando estou rodando o _script_ no [_Google Colab_](https://colab.research.google.com/)."
   ]
  },
  {
   "cell_type": "code",
   "execution_count": null,
   "metadata": {},
   "outputs": [],
   "source": [
    "driver = esaj.webdriver.Chrome(modo_colab=True)"
   ]
  },
  {
   "cell_type": "markdown",
   "metadata": {},
   "source": [
    "<br>\n",
    "\n",
    "Também podemos dar um `close` para fechar."
   ]
  },
  {
   "cell_type": "code",
   "execution_count": null,
   "metadata": {},
   "outputs": [],
   "source": [
    "driver.close()"
   ]
  }
 ],
 "metadata": {
  "kernelspec": {
   "display_name": "pyesaj-9t7CDmVm-py3.12",
   "language": "python",
   "name": "python3"
  },
  "language_info": {
   "codemirror_mode": {
    "name": "ipython",
    "version": 3
   },
   "file_extension": ".py",
   "mimetype": "text/x-python",
   "name": "python",
   "nbconvert_exporter": "python",
   "pygments_lexer": "ipython3",
   "version": "3.12.3"
  }
 },
 "nbformat": 4,
 "nbformat_minor": 2
}
