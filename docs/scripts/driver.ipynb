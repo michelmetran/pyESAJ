{
 "cells": [
  {
   "cell_type": "markdown",
   "metadata": {},
   "source": [
    "# _Driver_ (ou Navegador)\n",
    "\n",
    "O pyESAJ foi inicialmente pensado para ser usado com o Selenium. Para isso é necessário instanciar um _driver_, ou seja, uma janela de um navegador.\n",
    "\n",
    "Fiz o pyESAJ inicialmente usando o Firefox e, com _feedback_ de usuários, adicionei o _Chrome_.\n"
   ]
  },
  {
   "cell_type": "code",
   "execution_count": 2,
   "metadata": {},
   "outputs": [],
   "source": [
    "import pyesaj.scraper as esaj"
   ]
  },
  {
   "cell_type": "markdown",
   "metadata": {},
   "source": [
    "<br>\n",
    "\n",
    "Para ambos os _drivers_ é possível usar alguns parâmetros (opcionais). São eles:\n",
    "\n",
    "1. `verify_ssl`: define se o _selenium_ irá usar protocolo HTTPS para baixar os binários requeridos ([Gecko](https://github.com/mozilla/geckodriver))\n",
    "2. `headless`: define se a interface do navegador irá ser mostrada ao usuário ou se ficará oculta\n",
    "3. `download_path`: define a pasta para a qual eventuais _downloads_ serão encaminhados.\n"
   ]
  },
  {
   "cell_type": "markdown",
   "metadata": {},
   "source": [
    "<br>\n",
    "\n",
    "---\n",
    "\n",
    "## Firefox\n",
    "\n"
   ]
  },
  {
   "cell_type": "code",
   "execution_count": null,
   "metadata": {},
   "outputs": [],
   "source": [
    "driver = esaj.webdriver.Firefox(verify_ssl=False)"
   ]
  },
  {
   "cell_type": "markdown",
   "metadata": {},
   "source": [
    "<br>\n",
    "\n",
    "---\n",
    "\n",
    "## Google Chrome\n"
   ]
  },
  {
   "cell_type": "code",
   "execution_count": null,
   "metadata": {},
   "outputs": [],
   "source": [
    "driver = esaj.webdriver.Chrome(headless=False)"
   ]
  }
 ],
 "metadata": {
  "kernelspec": {
   "display_name": "pyesaj-9t7CDmVm-py3.12",
   "language": "python",
   "name": "python3"
  },
  "language_info": {
   "codemirror_mode": {
    "name": "ipython",
    "version": 3
   },
   "file_extension": ".py",
   "mimetype": "text/x-python",
   "name": "python",
   "nbconvert_exporter": "python",
   "pygments_lexer": "ipython3",
   "version": "3.12.3"
  }
 },
 "nbformat": 4,
 "nbformat_minor": 2
}
