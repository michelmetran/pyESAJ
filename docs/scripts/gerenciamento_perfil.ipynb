{
 "cells": [
  {
   "cell_type": "markdown",
   "metadata": {},
   "source": [
    "# Gerenciamento de Perfil\n",
    "\n",
    "_Script_ que demonstra a utilização para acesso ao \"Gerenciamento de Perfil\" do e-SAJ.\n",
    "\n",
    "\n",
    "Caso queira testar o _notebook_, basta clicar sob o _badge_ abaixo. Irá abrir o arquivo [gerenciamento_perfil.ipynb](https://colab.research.google.com/github/michelmetran/pyESAJ/blob/main/docs/scripts/gerenciamento_perfil.ipynb) no [_Google Colab_](https://colab.research.google.com/).\n",
    "\n",
    "[![Open In Colab](https://colab.research.google.com/assets/colab-badge.svg)](https://colab.research.google.com/github/michelmetran/pyESAJ/blob/main/docs/scripts/gerenciamento_perfil.ipynb)\n"
   ]
  },
  {
   "cell_type": "code",
   "execution_count": null,
   "metadata": {
    "tags": [
     "hide_code"
    ]
   },
   "outputs": [],
   "source": [
    "# Install Chromium, its driver, and selenium\n",
    "!apt-get update\n",
    "!apt-get install chromium-chromedriver"
   ]
  },
  {
   "cell_type": "code",
   "execution_count": null,
   "metadata": {},
   "outputs": [],
   "source": [
    "import os\n",
    "\n",
    "from dotenv import load_dotenv\n",
    "\n",
    "import pyesaj.scraper as esaj"
   ]
  },
  {
   "cell_type": "code",
   "execution_count": null,
   "metadata": {
    "tags": [
     "hide_code"
    ]
   },
   "outputs": [],
   "source": [
    "# from pathlib import Path"
   ]
  },
  {
   "cell_type": "markdown",
   "metadata": {},
   "source": [
    "<br>\n",
    "\n",
    "---\n",
    "\n",
    "## Credenciais\n",
    "\n",
    "Obtemos as credenciais de um arquivo `.env` com o seguinte conteúdo:\n",
    "\n",
    "```shell\n",
    "USERNAME_TJSP=***.***.***-**\n",
    "PASSWORD_TJSP=****************\n",
    "```\n"
   ]
  },
  {
   "cell_type": "code",
   "execution_count": null,
   "metadata": {},
   "outputs": [],
   "source": [
    "load_dotenv()\n",
    "\n",
    "USERNAME = os.getenv('USERNAME_TJSP')\n",
    "PASSWORD = os.getenv('PASSWORD_TJSP')"
   ]
  },
  {
   "cell_type": "markdown",
   "metadata": {},
   "source": [
    "<br>\n",
    "\n",
    "---\n",
    "\n",
    "## _Driver_\n",
    "\n",
    "Instanciamos o _driver_/navegador que será usado para manejar o e-SAJ.\n"
   ]
  },
  {
   "cell_type": "code",
   "execution_count": null,
   "metadata": {},
   "outputs": [],
   "source": [
    "driver = esaj.webdriver.Chrome(headless=False, modo_colab=True)"
   ]
  },
  {
   "cell_type": "markdown",
   "metadata": {},
   "source": [
    "<br>\n",
    "\n",
    "---\n",
    "\n",
    "## _Login_\n",
    "\n",
    "Em 24.03.2025 o TJSP implantou a autenticação por dois fatores e, ao tentar o acesso com _login_/senha é disparado um e-mail contendo o código númerico para fazer a autenticação no sistema.\n",
    "\n",
    "A autenticação em duas etapas (ou autenticação de duplo fator) promove a segurança do sistema e dificulta que automações sejam feitas.\n"
   ]
  },
  {
   "cell_type": "code",
   "execution_count": null,
   "metadata": {},
   "outputs": [],
   "source": [
    "log = esaj.page.Login(driver=driver)"
   ]
  },
  {
   "cell_type": "markdown",
   "metadata": {},
   "source": [
    "<br>\n",
    "\n",
    "Na primeira etapa apenas entramos com os dados básicos: _login_ e senha.\n"
   ]
  },
  {
   "cell_type": "code",
   "execution_count": null,
   "metadata": {},
   "outputs": [],
   "source": [
    "log.login_1_etapa(username=USERNAME, password=PASSWORD)"
   ]
  },
  {
   "cell_type": "markdown",
   "metadata": {},
   "source": [
    "<br>\n",
    "\n",
    "Ao executar a primeira etapa, será disparado um e-mail com um código numérico, de 6 dígitos, para concluir a autenticação.\n"
   ]
  },
  {
   "cell_type": "code",
   "execution_count": null,
   "metadata": {},
   "outputs": [],
   "source": [
    "log.login_2_etapa(token=213962)"
   ]
  },
  {
   "cell_type": "markdown",
   "metadata": {},
   "source": [
    "<br>\n",
    "\n",
    "---\n",
    "\n",
    "## Gerenciamento de Perfis\n",
    "\n",
    "O acesso ao \"Gerenciamento de Perfil\" se deve a necessidade de avaliar se o usuário tem permissão de fazer determinadas coisas no sistema e-SAJ. Para a atividade de especialização de intimações, por exemplo, o usuário deve ter perfil de \"Distribuidor Intimações MP - Segunda Instância\". Dessa forma, acessando os perfis, é possível avaliar se o usuário tem, ou não, permissão de acesso.\n"
   ]
  },
  {
   "cell_type": "code",
   "execution_count": null,
   "metadata": {},
   "outputs": [],
   "source": [
    "esaj_perfil = esaj.page.GerenciamentoPerfis(driver=driver)"
   ]
  },
  {
   "cell_type": "code",
   "execution_count": null,
   "metadata": {},
   "outputs": [],
   "source": [
    "perfis = esaj_perfil.obtem_perfis()\n",
    "perfis"
   ]
  },
  {
   "cell_type": "markdown",
   "metadata": {},
   "source": [
    "<br>\n",
    "\n",
    "Abaixo um código para avaliar se o usuário está habilitado ou não a um determinado perfil.\n",
    "\n",
    "    FAZER: Encapsular a função abaixo dentro de uma Classe.\n"
   ]
  },
  {
   "cell_type": "code",
   "execution_count": null,
   "metadata": {},
   "outputs": [],
   "source": [
    "check_2_instancia = [\n",
    "    x.perfil\n",
    "    for x in perfis\n",
    "    if x.autorizado is True\n",
    "    and x.perfil == 'Distribuidor Intimações MP - Segunda Instância'\n",
    "]\n",
    "if len(check_2_instancia) == 1:\n",
    "    print(\n",
    "        f'Prezado {log.user},\\n\\n'\n",
    "        f'Você tem perfil de acesso como \"Distribuidor Intimações MP - Segunda Instância\" necessário para distribuir e/ou especializar as intimações.\\n\\n'\n",
    "        f'Podemos dar sequencia!!'\n",
    "    )\n",
    "\n",
    "\n",
    "else:\n",
    "    perfis_autorizados = [x.perfil for x in perfis if x.autorizado is True]\n",
    "    perfis_autorizados = '\\n'.join([f'- {x}' for x in perfis_autorizados])\n",
    "    raise Exception(\n",
    "        f'Prezado {log.user},\\n\\n'\n",
    "        f'Ao que tudo indica, você não tem perfil de acesso como \"Distribuidor Intimações MP - Segunda Instância\", necessário para distribuir e/ou especializar as intimações.\\n\\n'\n",
    "        f'Os perfis autorizados para você são:\\n{perfis_autorizados}'\n",
    "    )"
   ]
  },
  {
   "cell_type": "markdown",
   "metadata": {},
   "source": [
    "<br>\n",
    "\n",
    "Por fim, fecho o _driver_/navegador.\n"
   ]
  },
  {
   "cell_type": "code",
   "execution_count": null,
   "metadata": {},
   "outputs": [],
   "source": [
    "driver.quit()"
   ]
  }
 ],
 "metadata": {
  "kernelspec": {
   "display_name": "pyesaj-9t7CDmVm-py3.12",
   "language": "python",
   "name": "python3"
  },
  "language_info": {
   "codemirror_mode": {
    "name": "ipython",
    "version": 3
   },
   "file_extension": ".py",
   "mimetype": "text/x-python",
   "name": "python",
   "nbconvert_exporter": "python",
   "pygments_lexer": "ipython3",
   "version": "3.12.3"
  }
 },
 "nbformat": 4,
 "nbformat_minor": 2
}
